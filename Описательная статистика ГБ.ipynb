{
 "cells": [
  {
   "cell_type": "code",
   "execution_count": 1,
   "id": "c36cb78a",
   "metadata": {},
   "outputs": [],
   "source": [
    "import pandas as pd\n",
    "import seaborn as sns\n",
    "import numpy as np\n",
    "import matplotlib.pyplot as plt\n",
    "pd.set_option('display.max_columns', None)"
   ]
  },
  {
   "cell_type": "code",
   "execution_count": 2,
   "id": "a8c9089e",
   "metadata": {},
   "outputs": [],
   "source": [
    "import plotnine\n",
    "from plotnine import *\n",
    "from plotnine import data\n",
    "from scipy.stats import sem,t"
   ]
  },
  {
   "cell_type": "markdown",
   "id": "0b6a4887",
   "metadata": {},
   "source": [
    "### Все данные пациентов "
   ]
  },
  {
   "cell_type": "code",
   "execution_count": 3,
   "id": "11ba1826",
   "metadata": {},
   "outputs": [],
   "source": [
    "hd=pd.DataFrame({'ФИО':['Рабаданова Г.М.','Мухаметшин А. И.','Амхаева И.И.','Богданов А.Р.','Ситдикова М.Г.','Евграфова В.В.','Миронов В. В.','Мисалимов А.А.',\n",
    "                            'Ильина Л.Н.','Агапова Е. Р.', 'Хабибулина А.Р.'],'Возраст':[55,32,28,26,48,41,31,38,47,47,31],'Пол': ['Ж','М','Ж','М',\n",
    "                            'Ж','Ж','М','М','Ж','Ж','Ж'], 'ВАШ':[3,3,4,6,5,4,5,5,7,8,6],'HADS/T':[7,5,7,5,9,9,4,7,8,16,7],'HADS/D':[3,4,16,6,4,13,9,3,6,4,8],\n",
    "                   'HIT-6':[62,58,63,48,63,43,55,57,57,55,61], 'HALT':[28,34,34,3,3,16,16,5,25,11,17],'HALT-JOB':[0,5,1,0,0,0,3,0,0,0,0],'HALT-DA':[10,12,18,0,0,5,7,2,5,0,8],\n",
    "                 'HALT-HW':[10,5,5,0,3,5,3,0,5,6,3], 'HALT-1/2HW':[5,10,10,3,0,5,2,2,15,5,6],'HALT-FANS':[3,2,0,0,0,1,1,1,0,0,0], 'STAI-R':[20,41,52,42,45,57,48,47,43,47,42],\n",
    "                 'STAI-P':[45,34,59,59,53,59,38,48,58,54,32],'HDRS':[10,5,6,3,7,10,6,16,3,7,11],'HAM-A':[12,7,26,12,12,17,0,15,13,30,28],'MMSE':[27,30,30,30,26,27,30,26,26,26,30],\n",
    "                 'EQ-5D':[60,73,50,55,60,55,60,55,80,60,55],'EQ-5D2':[1,1,1,2,1,2,1,1,1,1,1],'EQ-5D3':[2,1,1,1,1,1,1,1,1,1,1],'EQ-5D4':[2,2,2,1,1,2,2,1,2,1,2],\n",
    "                 'EQ-5D5':[3,2,2,2,2,2,2,2,2,2,2],'EQ-5D6':[2,1,2,1,3,3,2,2,2,2,1],'HART1':['3-5','6-15','6-15','6-15','6-15','3-5','3-5','3-5','6-15','6-15','6-15'],\n",
    "                 'HART2':['6-10','11-20','21','1-5','1-5','1-5','6-10','1-5','11-20','1-5','1-5'],'HART2':['6-10','11-20','21','1-5','1-5','1-5','6-10','1-5','11-20','1-5','1-5'],\n",
    "                'HART3':['1-5','6-10','0','1-5','1-5','1-5','1-5','1-5','1-5','1-5','1-5'],'HART4':['6-15','1-2','3-5','3-5','6-15','1-2','3-5','1-2','6-15','3-5','6-15'],\n",
    "                'HART5':['иногда','часто','часто','иногда','часто','часто','иногда','часто','часто','никогда','часто'],\n",
    "                 'HART6':['часто','иногда','никогда','иногда','редко','часто','всегда','никогда','всегда','всегда','всегда'],\n",
    "                'HART7':['иногда','часто','редко','редко','часто','часто','часто','часто','часто','никогда','часто'],\n",
    "                 'Антидепрессанты':['нет','нет','да','да','да','нет','нет','да','нет','да','да']},index =[1,2,3,4,5,6,7,8,9,10,11])"
   ]
  },
  {
   "cell_type": "markdown",
   "id": "c3af66bc",
   "metadata": {},
   "source": [
    "### Все данные пациентов таблица"
   ]
  },
  {
   "cell_type": "code",
   "execution_count": 4,
   "id": "78942ef9",
   "metadata": {},
   "outputs": [
    {
     "data": {
      "text/html": [
       "<div>\n",
       "<style scoped>\n",
       "    .dataframe tbody tr th:only-of-type {\n",
       "        vertical-align: middle;\n",
       "    }\n",
       "\n",
       "    .dataframe tbody tr th {\n",
       "        vertical-align: top;\n",
       "    }\n",
       "\n",
       "    .dataframe thead th {\n",
       "        text-align: right;\n",
       "    }\n",
       "</style>\n",
       "<table border=\"1\" class=\"dataframe\">\n",
       "  <thead>\n",
       "    <tr style=\"text-align: right;\">\n",
       "      <th></th>\n",
       "      <th>ФИО</th>\n",
       "      <th>Возраст</th>\n",
       "      <th>Пол</th>\n",
       "      <th>ВАШ</th>\n",
       "      <th>HADS/T</th>\n",
       "      <th>HADS/D</th>\n",
       "      <th>HIT-6</th>\n",
       "      <th>HALT</th>\n",
       "      <th>HALT-JOB</th>\n",
       "      <th>HALT-DA</th>\n",
       "      <th>HALT-HW</th>\n",
       "      <th>HALT-1/2HW</th>\n",
       "      <th>HALT-FANS</th>\n",
       "      <th>STAI-R</th>\n",
       "      <th>STAI-P</th>\n",
       "      <th>HDRS</th>\n",
       "      <th>HAM-A</th>\n",
       "      <th>MMSE</th>\n",
       "      <th>EQ-5D</th>\n",
       "      <th>EQ-5D2</th>\n",
       "      <th>EQ-5D3</th>\n",
       "      <th>EQ-5D4</th>\n",
       "      <th>EQ-5D5</th>\n",
       "      <th>EQ-5D6</th>\n",
       "      <th>HART1</th>\n",
       "      <th>HART2</th>\n",
       "      <th>HART3</th>\n",
       "      <th>HART4</th>\n",
       "      <th>HART5</th>\n",
       "      <th>HART6</th>\n",
       "      <th>HART7</th>\n",
       "      <th>Антидепрессанты</th>\n",
       "    </tr>\n",
       "  </thead>\n",
       "  <tbody>\n",
       "    <tr>\n",
       "      <th>1</th>\n",
       "      <td>Рабаданова Г.М.</td>\n",
       "      <td>55</td>\n",
       "      <td>Ж</td>\n",
       "      <td>3</td>\n",
       "      <td>7</td>\n",
       "      <td>3</td>\n",
       "      <td>62</td>\n",
       "      <td>28</td>\n",
       "      <td>0</td>\n",
       "      <td>10</td>\n",
       "      <td>10</td>\n",
       "      <td>5</td>\n",
       "      <td>3</td>\n",
       "      <td>20</td>\n",
       "      <td>45</td>\n",
       "      <td>10</td>\n",
       "      <td>12</td>\n",
       "      <td>27</td>\n",
       "      <td>60</td>\n",
       "      <td>1</td>\n",
       "      <td>2</td>\n",
       "      <td>2</td>\n",
       "      <td>3</td>\n",
       "      <td>2</td>\n",
       "      <td>3-5</td>\n",
       "      <td>6-10</td>\n",
       "      <td>1-5</td>\n",
       "      <td>6-15</td>\n",
       "      <td>иногда</td>\n",
       "      <td>часто</td>\n",
       "      <td>иногда</td>\n",
       "      <td>нет</td>\n",
       "    </tr>\n",
       "    <tr>\n",
       "      <th>2</th>\n",
       "      <td>Мухаметшин А. И.</td>\n",
       "      <td>32</td>\n",
       "      <td>М</td>\n",
       "      <td>3</td>\n",
       "      <td>5</td>\n",
       "      <td>4</td>\n",
       "      <td>58</td>\n",
       "      <td>34</td>\n",
       "      <td>5</td>\n",
       "      <td>12</td>\n",
       "      <td>5</td>\n",
       "      <td>10</td>\n",
       "      <td>2</td>\n",
       "      <td>41</td>\n",
       "      <td>34</td>\n",
       "      <td>5</td>\n",
       "      <td>7</td>\n",
       "      <td>30</td>\n",
       "      <td>73</td>\n",
       "      <td>1</td>\n",
       "      <td>1</td>\n",
       "      <td>2</td>\n",
       "      <td>2</td>\n",
       "      <td>1</td>\n",
       "      <td>6-15</td>\n",
       "      <td>11-20</td>\n",
       "      <td>6-10</td>\n",
       "      <td>1-2</td>\n",
       "      <td>часто</td>\n",
       "      <td>иногда</td>\n",
       "      <td>часто</td>\n",
       "      <td>нет</td>\n",
       "    </tr>\n",
       "    <tr>\n",
       "      <th>3</th>\n",
       "      <td>Амхаева И.И.</td>\n",
       "      <td>28</td>\n",
       "      <td>Ж</td>\n",
       "      <td>4</td>\n",
       "      <td>7</td>\n",
       "      <td>16</td>\n",
       "      <td>63</td>\n",
       "      <td>34</td>\n",
       "      <td>1</td>\n",
       "      <td>18</td>\n",
       "      <td>5</td>\n",
       "      <td>10</td>\n",
       "      <td>0</td>\n",
       "      <td>52</td>\n",
       "      <td>59</td>\n",
       "      <td>6</td>\n",
       "      <td>26</td>\n",
       "      <td>30</td>\n",
       "      <td>50</td>\n",
       "      <td>1</td>\n",
       "      <td>1</td>\n",
       "      <td>2</td>\n",
       "      <td>2</td>\n",
       "      <td>2</td>\n",
       "      <td>6-15</td>\n",
       "      <td>21</td>\n",
       "      <td>0</td>\n",
       "      <td>3-5</td>\n",
       "      <td>часто</td>\n",
       "      <td>никогда</td>\n",
       "      <td>редко</td>\n",
       "      <td>да</td>\n",
       "    </tr>\n",
       "    <tr>\n",
       "      <th>4</th>\n",
       "      <td>Богданов А.Р.</td>\n",
       "      <td>26</td>\n",
       "      <td>М</td>\n",
       "      <td>6</td>\n",
       "      <td>5</td>\n",
       "      <td>6</td>\n",
       "      <td>48</td>\n",
       "      <td>3</td>\n",
       "      <td>0</td>\n",
       "      <td>0</td>\n",
       "      <td>0</td>\n",
       "      <td>3</td>\n",
       "      <td>0</td>\n",
       "      <td>42</td>\n",
       "      <td>59</td>\n",
       "      <td>3</td>\n",
       "      <td>12</td>\n",
       "      <td>30</td>\n",
       "      <td>55</td>\n",
       "      <td>2</td>\n",
       "      <td>1</td>\n",
       "      <td>1</td>\n",
       "      <td>2</td>\n",
       "      <td>1</td>\n",
       "      <td>6-15</td>\n",
       "      <td>1-5</td>\n",
       "      <td>1-5</td>\n",
       "      <td>3-5</td>\n",
       "      <td>иногда</td>\n",
       "      <td>иногда</td>\n",
       "      <td>редко</td>\n",
       "      <td>да</td>\n",
       "    </tr>\n",
       "    <tr>\n",
       "      <th>5</th>\n",
       "      <td>Ситдикова М.Г.</td>\n",
       "      <td>48</td>\n",
       "      <td>Ж</td>\n",
       "      <td>5</td>\n",
       "      <td>9</td>\n",
       "      <td>4</td>\n",
       "      <td>63</td>\n",
       "      <td>3</td>\n",
       "      <td>0</td>\n",
       "      <td>0</td>\n",
       "      <td>3</td>\n",
       "      <td>0</td>\n",
       "      <td>0</td>\n",
       "      <td>45</td>\n",
       "      <td>53</td>\n",
       "      <td>7</td>\n",
       "      <td>12</td>\n",
       "      <td>26</td>\n",
       "      <td>60</td>\n",
       "      <td>1</td>\n",
       "      <td>1</td>\n",
       "      <td>1</td>\n",
       "      <td>2</td>\n",
       "      <td>3</td>\n",
       "      <td>6-15</td>\n",
       "      <td>1-5</td>\n",
       "      <td>1-5</td>\n",
       "      <td>6-15</td>\n",
       "      <td>часто</td>\n",
       "      <td>редко</td>\n",
       "      <td>часто</td>\n",
       "      <td>да</td>\n",
       "    </tr>\n",
       "    <tr>\n",
       "      <th>6</th>\n",
       "      <td>Евграфова В.В.</td>\n",
       "      <td>41</td>\n",
       "      <td>Ж</td>\n",
       "      <td>4</td>\n",
       "      <td>9</td>\n",
       "      <td>13</td>\n",
       "      <td>43</td>\n",
       "      <td>16</td>\n",
       "      <td>0</td>\n",
       "      <td>5</td>\n",
       "      <td>5</td>\n",
       "      <td>5</td>\n",
       "      <td>1</td>\n",
       "      <td>57</td>\n",
       "      <td>59</td>\n",
       "      <td>10</td>\n",
       "      <td>17</td>\n",
       "      <td>27</td>\n",
       "      <td>55</td>\n",
       "      <td>2</td>\n",
       "      <td>1</td>\n",
       "      <td>2</td>\n",
       "      <td>2</td>\n",
       "      <td>3</td>\n",
       "      <td>3-5</td>\n",
       "      <td>1-5</td>\n",
       "      <td>1-5</td>\n",
       "      <td>1-2</td>\n",
       "      <td>часто</td>\n",
       "      <td>часто</td>\n",
       "      <td>часто</td>\n",
       "      <td>нет</td>\n",
       "    </tr>\n",
       "    <tr>\n",
       "      <th>7</th>\n",
       "      <td>Миронов В. В.</td>\n",
       "      <td>31</td>\n",
       "      <td>М</td>\n",
       "      <td>5</td>\n",
       "      <td>4</td>\n",
       "      <td>9</td>\n",
       "      <td>55</td>\n",
       "      <td>16</td>\n",
       "      <td>3</td>\n",
       "      <td>7</td>\n",
       "      <td>3</td>\n",
       "      <td>2</td>\n",
       "      <td>1</td>\n",
       "      <td>48</td>\n",
       "      <td>38</td>\n",
       "      <td>6</td>\n",
       "      <td>0</td>\n",
       "      <td>30</td>\n",
       "      <td>60</td>\n",
       "      <td>1</td>\n",
       "      <td>1</td>\n",
       "      <td>2</td>\n",
       "      <td>2</td>\n",
       "      <td>2</td>\n",
       "      <td>3-5</td>\n",
       "      <td>6-10</td>\n",
       "      <td>1-5</td>\n",
       "      <td>3-5</td>\n",
       "      <td>иногда</td>\n",
       "      <td>всегда</td>\n",
       "      <td>часто</td>\n",
       "      <td>нет</td>\n",
       "    </tr>\n",
       "    <tr>\n",
       "      <th>8</th>\n",
       "      <td>Мисалимов А.А.</td>\n",
       "      <td>38</td>\n",
       "      <td>М</td>\n",
       "      <td>5</td>\n",
       "      <td>7</td>\n",
       "      <td>3</td>\n",
       "      <td>57</td>\n",
       "      <td>5</td>\n",
       "      <td>0</td>\n",
       "      <td>2</td>\n",
       "      <td>0</td>\n",
       "      <td>2</td>\n",
       "      <td>1</td>\n",
       "      <td>47</td>\n",
       "      <td>48</td>\n",
       "      <td>16</td>\n",
       "      <td>15</td>\n",
       "      <td>26</td>\n",
       "      <td>55</td>\n",
       "      <td>1</td>\n",
       "      <td>1</td>\n",
       "      <td>1</td>\n",
       "      <td>2</td>\n",
       "      <td>2</td>\n",
       "      <td>3-5</td>\n",
       "      <td>1-5</td>\n",
       "      <td>1-5</td>\n",
       "      <td>1-2</td>\n",
       "      <td>часто</td>\n",
       "      <td>никогда</td>\n",
       "      <td>часто</td>\n",
       "      <td>да</td>\n",
       "    </tr>\n",
       "    <tr>\n",
       "      <th>9</th>\n",
       "      <td>Ильина Л.Н.</td>\n",
       "      <td>47</td>\n",
       "      <td>Ж</td>\n",
       "      <td>7</td>\n",
       "      <td>8</td>\n",
       "      <td>6</td>\n",
       "      <td>57</td>\n",
       "      <td>25</td>\n",
       "      <td>0</td>\n",
       "      <td>5</td>\n",
       "      <td>5</td>\n",
       "      <td>15</td>\n",
       "      <td>0</td>\n",
       "      <td>43</td>\n",
       "      <td>58</td>\n",
       "      <td>3</td>\n",
       "      <td>13</td>\n",
       "      <td>26</td>\n",
       "      <td>80</td>\n",
       "      <td>1</td>\n",
       "      <td>1</td>\n",
       "      <td>2</td>\n",
       "      <td>2</td>\n",
       "      <td>2</td>\n",
       "      <td>6-15</td>\n",
       "      <td>11-20</td>\n",
       "      <td>1-5</td>\n",
       "      <td>6-15</td>\n",
       "      <td>часто</td>\n",
       "      <td>всегда</td>\n",
       "      <td>часто</td>\n",
       "      <td>нет</td>\n",
       "    </tr>\n",
       "    <tr>\n",
       "      <th>10</th>\n",
       "      <td>Агапова Е. Р.</td>\n",
       "      <td>47</td>\n",
       "      <td>Ж</td>\n",
       "      <td>8</td>\n",
       "      <td>16</td>\n",
       "      <td>4</td>\n",
       "      <td>55</td>\n",
       "      <td>11</td>\n",
       "      <td>0</td>\n",
       "      <td>0</td>\n",
       "      <td>6</td>\n",
       "      <td>5</td>\n",
       "      <td>0</td>\n",
       "      <td>47</td>\n",
       "      <td>54</td>\n",
       "      <td>7</td>\n",
       "      <td>30</td>\n",
       "      <td>26</td>\n",
       "      <td>60</td>\n",
       "      <td>1</td>\n",
       "      <td>1</td>\n",
       "      <td>1</td>\n",
       "      <td>2</td>\n",
       "      <td>2</td>\n",
       "      <td>6-15</td>\n",
       "      <td>1-5</td>\n",
       "      <td>1-5</td>\n",
       "      <td>3-5</td>\n",
       "      <td>никогда</td>\n",
       "      <td>всегда</td>\n",
       "      <td>никогда</td>\n",
       "      <td>да</td>\n",
       "    </tr>\n",
       "    <tr>\n",
       "      <th>11</th>\n",
       "      <td>Хабибулина А.Р.</td>\n",
       "      <td>31</td>\n",
       "      <td>Ж</td>\n",
       "      <td>6</td>\n",
       "      <td>7</td>\n",
       "      <td>8</td>\n",
       "      <td>61</td>\n",
       "      <td>17</td>\n",
       "      <td>0</td>\n",
       "      <td>8</td>\n",
       "      <td>3</td>\n",
       "      <td>6</td>\n",
       "      <td>0</td>\n",
       "      <td>42</td>\n",
       "      <td>32</td>\n",
       "      <td>11</td>\n",
       "      <td>28</td>\n",
       "      <td>30</td>\n",
       "      <td>55</td>\n",
       "      <td>1</td>\n",
       "      <td>1</td>\n",
       "      <td>2</td>\n",
       "      <td>2</td>\n",
       "      <td>1</td>\n",
       "      <td>6-15</td>\n",
       "      <td>1-5</td>\n",
       "      <td>1-5</td>\n",
       "      <td>6-15</td>\n",
       "      <td>часто</td>\n",
       "      <td>всегда</td>\n",
       "      <td>часто</td>\n",
       "      <td>да</td>\n",
       "    </tr>\n",
       "  </tbody>\n",
       "</table>\n",
       "</div>"
      ],
      "text/plain": [
       "                 ФИО  Возраст Пол  ВАШ  HADS/T  HADS/D  HIT-6  HALT  HALT-JOB  \\\n",
       "1    Рабаданова Г.М.       55   Ж    3       7       3     62    28         0   \n",
       "2   Мухаметшин А. И.       32   М    3       5       4     58    34         5   \n",
       "3       Амхаева И.И.       28   Ж    4       7      16     63    34         1   \n",
       "4      Богданов А.Р.       26   М    6       5       6     48     3         0   \n",
       "5     Ситдикова М.Г.       48   Ж    5       9       4     63     3         0   \n",
       "6     Евграфова В.В.       41   Ж    4       9      13     43    16         0   \n",
       "7      Миронов В. В.       31   М    5       4       9     55    16         3   \n",
       "8     Мисалимов А.А.       38   М    5       7       3     57     5         0   \n",
       "9        Ильина Л.Н.       47   Ж    7       8       6     57    25         0   \n",
       "10     Агапова Е. Р.       47   Ж    8      16       4     55    11         0   \n",
       "11   Хабибулина А.Р.       31   Ж    6       7       8     61    17         0   \n",
       "\n",
       "    HALT-DA  HALT-HW  HALT-1/2HW  HALT-FANS  STAI-R  STAI-P  HDRS  HAM-A  \\\n",
       "1        10       10           5          3      20      45    10     12   \n",
       "2        12        5          10          2      41      34     5      7   \n",
       "3        18        5          10          0      52      59     6     26   \n",
       "4         0        0           3          0      42      59     3     12   \n",
       "5         0        3           0          0      45      53     7     12   \n",
       "6         5        5           5          1      57      59    10     17   \n",
       "7         7        3           2          1      48      38     6      0   \n",
       "8         2        0           2          1      47      48    16     15   \n",
       "9         5        5          15          0      43      58     3     13   \n",
       "10        0        6           5          0      47      54     7     30   \n",
       "11        8        3           6          0      42      32    11     28   \n",
       "\n",
       "    MMSE  EQ-5D  EQ-5D2  EQ-5D3  EQ-5D4  EQ-5D5  EQ-5D6 HART1  HART2 HART3  \\\n",
       "1     27     60       1       2       2       3       2   3-5   6-10   1-5   \n",
       "2     30     73       1       1       2       2       1  6-15  11-20  6-10   \n",
       "3     30     50       1       1       2       2       2  6-15     21     0   \n",
       "4     30     55       2       1       1       2       1  6-15    1-5   1-5   \n",
       "5     26     60       1       1       1       2       3  6-15    1-5   1-5   \n",
       "6     27     55       2       1       2       2       3   3-5    1-5   1-5   \n",
       "7     30     60       1       1       2       2       2   3-5   6-10   1-5   \n",
       "8     26     55       1       1       1       2       2   3-5    1-5   1-5   \n",
       "9     26     80       1       1       2       2       2  6-15  11-20   1-5   \n",
       "10    26     60       1       1       1       2       2  6-15    1-5   1-5   \n",
       "11    30     55       1       1       2       2       1  6-15    1-5   1-5   \n",
       "\n",
       "   HART4    HART5    HART6    HART7 Антидепрессанты  \n",
       "1   6-15   иногда    часто   иногда             нет  \n",
       "2    1-2    часто   иногда    часто             нет  \n",
       "3    3-5    часто  никогда    редко              да  \n",
       "4    3-5   иногда   иногда    редко              да  \n",
       "5   6-15    часто    редко    часто              да  \n",
       "6    1-2    часто    часто    часто             нет  \n",
       "7    3-5   иногда   всегда    часто             нет  \n",
       "8    1-2    часто  никогда    часто              да  \n",
       "9   6-15    часто   всегда    часто             нет  \n",
       "10   3-5  никогда   всегда  никогда              да  \n",
       "11  6-15    часто   всегда    часто              да  "
      ]
     },
     "execution_count": 4,
     "metadata": {},
     "output_type": "execute_result"
    }
   ],
   "source": [
    "hd"
   ]
  },
  {
   "cell_type": "markdown",
   "id": "a982ef74",
   "metadata": {},
   "source": [
    "### Описательная часть Количественных данных "
   ]
  },
  {
   "cell_type": "code",
   "execution_count": 5,
   "id": "684849cd",
   "metadata": {},
   "outputs": [
    {
     "data": {
      "text/html": [
       "<div>\n",
       "<style scoped>\n",
       "    .dataframe tbody tr th:only-of-type {\n",
       "        vertical-align: middle;\n",
       "    }\n",
       "\n",
       "    .dataframe tbody tr th {\n",
       "        vertical-align: top;\n",
       "    }\n",
       "\n",
       "    .dataframe thead th {\n",
       "        text-align: right;\n",
       "    }\n",
       "</style>\n",
       "<table border=\"1\" class=\"dataframe\">\n",
       "  <thead>\n",
       "    <tr style=\"text-align: right;\">\n",
       "      <th></th>\n",
       "      <th>Возраст</th>\n",
       "      <th>ВАШ</th>\n",
       "      <th>HADS/T</th>\n",
       "      <th>HADS/D</th>\n",
       "      <th>HIT-6</th>\n",
       "      <th>HALT</th>\n",
       "      <th>HALT-JOB</th>\n",
       "      <th>HALT-DA</th>\n",
       "      <th>HALT-HW</th>\n",
       "      <th>HALT-1/2HW</th>\n",
       "      <th>HALT-FANS</th>\n",
       "      <th>STAI-R</th>\n",
       "      <th>STAI-P</th>\n",
       "      <th>HDRS</th>\n",
       "      <th>HAM-A</th>\n",
       "      <th>MMSE</th>\n",
       "      <th>EQ-5D</th>\n",
       "      <th>EQ-5D2</th>\n",
       "      <th>EQ-5D3</th>\n",
       "      <th>EQ-5D4</th>\n",
       "      <th>EQ-5D5</th>\n",
       "      <th>EQ-5D6</th>\n",
       "    </tr>\n",
       "  </thead>\n",
       "  <tbody>\n",
       "    <tr>\n",
       "      <th>count</th>\n",
       "      <td>11.000000</td>\n",
       "      <td>11.000000</td>\n",
       "      <td>11.000000</td>\n",
       "      <td>11.000000</td>\n",
       "      <td>11.000000</td>\n",
       "      <td>11.000000</td>\n",
       "      <td>11.000000</td>\n",
       "      <td>11.000000</td>\n",
       "      <td>11.000000</td>\n",
       "      <td>11.000000</td>\n",
       "      <td>11.000000</td>\n",
       "      <td>11.000000</td>\n",
       "      <td>11.000000</td>\n",
       "      <td>11.000000</td>\n",
       "      <td>11.000000</td>\n",
       "      <td>11.000000</td>\n",
       "      <td>11.000000</td>\n",
       "      <td>11.000000</td>\n",
       "      <td>11.000000</td>\n",
       "      <td>11.000000</td>\n",
       "      <td>11.000000</td>\n",
       "      <td>11.000000</td>\n",
       "    </tr>\n",
       "    <tr>\n",
       "      <th>mean</th>\n",
       "      <td>38.545455</td>\n",
       "      <td>5.090909</td>\n",
       "      <td>7.636364</td>\n",
       "      <td>6.909091</td>\n",
       "      <td>56.545455</td>\n",
       "      <td>17.454545</td>\n",
       "      <td>0.818182</td>\n",
       "      <td>6.090909</td>\n",
       "      <td>4.090909</td>\n",
       "      <td>5.727273</td>\n",
       "      <td>0.727273</td>\n",
       "      <td>44.000000</td>\n",
       "      <td>49.000000</td>\n",
       "      <td>7.636364</td>\n",
       "      <td>15.636364</td>\n",
       "      <td>28.000000</td>\n",
       "      <td>60.272727</td>\n",
       "      <td>1.181818</td>\n",
       "      <td>1.090909</td>\n",
       "      <td>1.636364</td>\n",
       "      <td>2.090909</td>\n",
       "      <td>1.909091</td>\n",
       "    </tr>\n",
       "    <tr>\n",
       "      <th>std</th>\n",
       "      <td>9.668129</td>\n",
       "      <td>1.578261</td>\n",
       "      <td>3.202272</td>\n",
       "      <td>4.276787</td>\n",
       "      <td>6.298629</td>\n",
       "      <td>11.553040</td>\n",
       "      <td>1.662419</td>\n",
       "      <td>5.717596</td>\n",
       "      <td>2.809076</td>\n",
       "      <td>4.383855</td>\n",
       "      <td>1.009050</td>\n",
       "      <td>9.284396</td>\n",
       "      <td>10.363397</td>\n",
       "      <td>3.854160</td>\n",
       "      <td>9.135346</td>\n",
       "      <td>1.949359</td>\n",
       "      <td>8.764598</td>\n",
       "      <td>0.404520</td>\n",
       "      <td>0.301511</td>\n",
       "      <td>0.504525</td>\n",
       "      <td>0.301511</td>\n",
       "      <td>0.700649</td>\n",
       "    </tr>\n",
       "    <tr>\n",
       "      <th>min</th>\n",
       "      <td>26.000000</td>\n",
       "      <td>3.000000</td>\n",
       "      <td>4.000000</td>\n",
       "      <td>3.000000</td>\n",
       "      <td>43.000000</td>\n",
       "      <td>3.000000</td>\n",
       "      <td>0.000000</td>\n",
       "      <td>0.000000</td>\n",
       "      <td>0.000000</td>\n",
       "      <td>0.000000</td>\n",
       "      <td>0.000000</td>\n",
       "      <td>20.000000</td>\n",
       "      <td>32.000000</td>\n",
       "      <td>3.000000</td>\n",
       "      <td>0.000000</td>\n",
       "      <td>26.000000</td>\n",
       "      <td>50.000000</td>\n",
       "      <td>1.000000</td>\n",
       "      <td>1.000000</td>\n",
       "      <td>1.000000</td>\n",
       "      <td>2.000000</td>\n",
       "      <td>1.000000</td>\n",
       "    </tr>\n",
       "    <tr>\n",
       "      <th>25%</th>\n",
       "      <td>31.000000</td>\n",
       "      <td>4.000000</td>\n",
       "      <td>6.000000</td>\n",
       "      <td>4.000000</td>\n",
       "      <td>55.000000</td>\n",
       "      <td>8.000000</td>\n",
       "      <td>0.000000</td>\n",
       "      <td>1.000000</td>\n",
       "      <td>3.000000</td>\n",
       "      <td>2.500000</td>\n",
       "      <td>0.000000</td>\n",
       "      <td>42.000000</td>\n",
       "      <td>41.500000</td>\n",
       "      <td>5.500000</td>\n",
       "      <td>12.000000</td>\n",
       "      <td>26.000000</td>\n",
       "      <td>55.000000</td>\n",
       "      <td>1.000000</td>\n",
       "      <td>1.000000</td>\n",
       "      <td>1.000000</td>\n",
       "      <td>2.000000</td>\n",
       "      <td>1.500000</td>\n",
       "    </tr>\n",
       "    <tr>\n",
       "      <th>50%</th>\n",
       "      <td>38.000000</td>\n",
       "      <td>5.000000</td>\n",
       "      <td>7.000000</td>\n",
       "      <td>6.000000</td>\n",
       "      <td>57.000000</td>\n",
       "      <td>16.000000</td>\n",
       "      <td>0.000000</td>\n",
       "      <td>5.000000</td>\n",
       "      <td>5.000000</td>\n",
       "      <td>5.000000</td>\n",
       "      <td>0.000000</td>\n",
       "      <td>45.000000</td>\n",
       "      <td>53.000000</td>\n",
       "      <td>7.000000</td>\n",
       "      <td>13.000000</td>\n",
       "      <td>27.000000</td>\n",
       "      <td>60.000000</td>\n",
       "      <td>1.000000</td>\n",
       "      <td>1.000000</td>\n",
       "      <td>2.000000</td>\n",
       "      <td>2.000000</td>\n",
       "      <td>2.000000</td>\n",
       "    </tr>\n",
       "    <tr>\n",
       "      <th>75%</th>\n",
       "      <td>47.000000</td>\n",
       "      <td>6.000000</td>\n",
       "      <td>8.500000</td>\n",
       "      <td>8.500000</td>\n",
       "      <td>61.500000</td>\n",
       "      <td>26.500000</td>\n",
       "      <td>0.500000</td>\n",
       "      <td>9.000000</td>\n",
       "      <td>5.000000</td>\n",
       "      <td>8.000000</td>\n",
       "      <td>1.000000</td>\n",
       "      <td>47.500000</td>\n",
       "      <td>58.500000</td>\n",
       "      <td>10.000000</td>\n",
       "      <td>21.500000</td>\n",
       "      <td>30.000000</td>\n",
       "      <td>60.000000</td>\n",
       "      <td>1.000000</td>\n",
       "      <td>1.000000</td>\n",
       "      <td>2.000000</td>\n",
       "      <td>2.000000</td>\n",
       "      <td>2.000000</td>\n",
       "    </tr>\n",
       "    <tr>\n",
       "      <th>max</th>\n",
       "      <td>55.000000</td>\n",
       "      <td>8.000000</td>\n",
       "      <td>16.000000</td>\n",
       "      <td>16.000000</td>\n",
       "      <td>63.000000</td>\n",
       "      <td>34.000000</td>\n",
       "      <td>5.000000</td>\n",
       "      <td>18.000000</td>\n",
       "      <td>10.000000</td>\n",
       "      <td>15.000000</td>\n",
       "      <td>3.000000</td>\n",
       "      <td>57.000000</td>\n",
       "      <td>59.000000</td>\n",
       "      <td>16.000000</td>\n",
       "      <td>30.000000</td>\n",
       "      <td>30.000000</td>\n",
       "      <td>80.000000</td>\n",
       "      <td>2.000000</td>\n",
       "      <td>2.000000</td>\n",
       "      <td>2.000000</td>\n",
       "      <td>3.000000</td>\n",
       "      <td>3.000000</td>\n",
       "    </tr>\n",
       "  </tbody>\n",
       "</table>\n",
       "</div>"
      ],
      "text/plain": [
       "         Возраст        ВАШ     HADS/T     HADS/D      HIT-6       HALT  \\\n",
       "count  11.000000  11.000000  11.000000  11.000000  11.000000  11.000000   \n",
       "mean   38.545455   5.090909   7.636364   6.909091  56.545455  17.454545   \n",
       "std     9.668129   1.578261   3.202272   4.276787   6.298629  11.553040   \n",
       "min    26.000000   3.000000   4.000000   3.000000  43.000000   3.000000   \n",
       "25%    31.000000   4.000000   6.000000   4.000000  55.000000   8.000000   \n",
       "50%    38.000000   5.000000   7.000000   6.000000  57.000000  16.000000   \n",
       "75%    47.000000   6.000000   8.500000   8.500000  61.500000  26.500000   \n",
       "max    55.000000   8.000000  16.000000  16.000000  63.000000  34.000000   \n",
       "\n",
       "        HALT-JOB    HALT-DA    HALT-HW  HALT-1/2HW  HALT-FANS     STAI-R  \\\n",
       "count  11.000000  11.000000  11.000000   11.000000  11.000000  11.000000   \n",
       "mean    0.818182   6.090909   4.090909    5.727273   0.727273  44.000000   \n",
       "std     1.662419   5.717596   2.809076    4.383855   1.009050   9.284396   \n",
       "min     0.000000   0.000000   0.000000    0.000000   0.000000  20.000000   \n",
       "25%     0.000000   1.000000   3.000000    2.500000   0.000000  42.000000   \n",
       "50%     0.000000   5.000000   5.000000    5.000000   0.000000  45.000000   \n",
       "75%     0.500000   9.000000   5.000000    8.000000   1.000000  47.500000   \n",
       "max     5.000000  18.000000  10.000000   15.000000   3.000000  57.000000   \n",
       "\n",
       "          STAI-P       HDRS      HAM-A       MMSE      EQ-5D     EQ-5D2  \\\n",
       "count  11.000000  11.000000  11.000000  11.000000  11.000000  11.000000   \n",
       "mean   49.000000   7.636364  15.636364  28.000000  60.272727   1.181818   \n",
       "std    10.363397   3.854160   9.135346   1.949359   8.764598   0.404520   \n",
       "min    32.000000   3.000000   0.000000  26.000000  50.000000   1.000000   \n",
       "25%    41.500000   5.500000  12.000000  26.000000  55.000000   1.000000   \n",
       "50%    53.000000   7.000000  13.000000  27.000000  60.000000   1.000000   \n",
       "75%    58.500000  10.000000  21.500000  30.000000  60.000000   1.000000   \n",
       "max    59.000000  16.000000  30.000000  30.000000  80.000000   2.000000   \n",
       "\n",
       "          EQ-5D3     EQ-5D4     EQ-5D5     EQ-5D6  \n",
       "count  11.000000  11.000000  11.000000  11.000000  \n",
       "mean    1.090909   1.636364   2.090909   1.909091  \n",
       "std     0.301511   0.504525   0.301511   0.700649  \n",
       "min     1.000000   1.000000   2.000000   1.000000  \n",
       "25%     1.000000   1.000000   2.000000   1.500000  \n",
       "50%     1.000000   2.000000   2.000000   2.000000  \n",
       "75%     1.000000   2.000000   2.000000   2.000000  \n",
       "max     2.000000   2.000000   3.000000   3.000000  "
      ]
     },
     "execution_count": 5,
     "metadata": {},
     "output_type": "execute_result"
    }
   ],
   "source": [
    "hd.describe()"
   ]
  },
  {
   "cell_type": "markdown",
   "id": "eedd56e3",
   "metadata": {},
   "source": [
    "### Boxplot  количественных данных "
   ]
  },
  {
   "cell_type": "code",
   "execution_count": 6,
   "id": "bb56301f",
   "metadata": {},
   "outputs": [
    {
     "data": {
      "image/png": "[encoded data removed]",
      "text/plain": [
       "<Figure size 1800x1200 with 1 Axes>"
      ]
     },
     "metadata": {},
     "output_type": "display_data"
    }
   ],
   "source": [
    "plt.figure(figsize=(30,20), dpi= 60)\n",
    "boxplot= sns.boxplot(hd)\n",
    "plt.xticks(fontsize=12)\n",
    "plt.yticks(fontsize=12)\n",
    "plt.show()"
   ]
  },
  {
   "cell_type": "code",
   "execution_count": 7,
   "id": "7823438e",
   "metadata": {},
   "outputs": [],
   "source": [
    "from scipy.stats import t\n",
    "from scipy import stats"
   ]
  },
  {
   "cell_type": "markdown",
   "id": "d22bc168",
   "metadata": {},
   "source": [
    "### Дальше вычисление CL и р количественных данных "
   ]
  },
  {
   "cell_type": "code",
   "execution_count": 8,
   "id": "50a0157d",
   "metadata": {},
   "outputs": [
    {
     "name": "stdout",
     "output_type": "stream",
     "text": [
      "CL: (32.05031679568506, 45.04059229522403)\n",
      "t: -5.301638624670116 and p :  0.0003467295220032013\n"
     ]
    }
   ],
   "source": [
    "Par = hd['Возраст']\n",
    "meanPar = Par.mean()\n",
    "df=10\n",
    "SePar = sem(Par)\n",
    "b = t.interval(0.95,df,loc=meanPar,scale=SePar)\n",
    "print('CL:', b)\n",
    "t_statistic, p_value = stats.ttest_1samp(Par, popmean=54, alternative='two-sided')\n",
    "print('t:', t_statistic ,'and', 'p : ',p_value)\n"
   ]
  },
  {
   "cell_type": "code",
   "execution_count": 9,
   "id": "37b47401",
   "metadata": {},
   "outputs": [
    {
     "name": "stdout",
     "output_type": "stream",
     "text": [
      "CL: (4.030618645843374, 6.151199535974808)\n",
      "t: -4.011843779479568 and p :  0.002470701220033968\n"
     ]
    }
   ],
   "source": [
    "Par = hd['ВАШ']\n",
    "meanPar = Par.mean()\n",
    "df=10\n",
    "SePar = sem(Par)\n",
    "b = t.interval(0.95,df,loc=meanPar,scale=SePar)\n",
    "print('CL:', b)\n",
    "t_statistic, p_value = stats.ttest_1samp(Par, popmean=7, alternative='two-sided')\n",
    "print('t:', t_statistic ,'and', 'p : ',p_value)"
   ]
  },
  {
   "cell_type": "code",
   "execution_count": 10,
   "id": "1ea2150b",
   "metadata": {},
   "outputs": [
    {
     "name": "stdout",
     "output_type": "stream",
     "text": [
      "CL: (5.48504808750495, 9.787679185222323)\n",
      "t: -3.4837515443405302 and p :  0.005884164153685977\n"
     ]
    }
   ],
   "source": [
    "Par = hd['HADS/T']\n",
    "meanPar = Par.mean()\n",
    "df=10\n",
    "SePar = sem(Par)\n",
    "b = t.interval(0.95,df,loc=meanPar,scale=SePar)\n",
    "print('CL:', b)\n",
    "t_statistic, p_value = stats.ttest_1samp(Par, popmean=11, alternative='two-sided')\n",
    "print('t:', t_statistic ,'and', 'p : ',p_value)"
   ]
  },
  {
   "cell_type": "code",
   "execution_count": 11,
   "id": "cca2fb28",
   "metadata": {},
   "outputs": [
    {
     "name": "stdout",
     "output_type": "stream",
     "text": [
      "CL: (4.035906146871984, 9.782275671309835)\n",
      "t: -3.1724773168682763 and p :  0.009945709727000854\n"
     ]
    }
   ],
   "source": [
    "Par = hd['HADS/D']\n",
    "meanPar = Par.mean()\n",
    "df=10\n",
    "SePar = sem(Par)\n",
    "b = t.interval(0.95,df,loc=meanPar,scale=SePar)\n",
    "print('CL:', b)\n",
    "t_statistic, p_value = stats.ttest_1samp(Par, popmean=11, alternative='two-sided')\n",
    "print('t:', t_statistic ,'and', 'p : ',p_value)"
   ]
  },
  {
   "cell_type": "code",
   "execution_count": 12,
   "id": "6ff21536",
   "metadata": {},
   "outputs": [
    {
     "name": "stdout",
     "output_type": "stream",
     "text": [
      "CL: (52.3139780068358, 60.7769310840733)\n",
      "t: 6.079408830828507 and p :  0.00011888508341311486\n"
     ]
    }
   ],
   "source": [
    "Par = hd['HIT-6']\n",
    "meanPar = Par.mean()\n",
    "df=10\n",
    "SePar = sem(Par)\n",
    "b = t.interval(0.95,df,loc=meanPar,scale=SePar)\n",
    "print('CL:', b)\n",
    "t_statistic, p_value = stats.ttest_1samp(Par, popmean=45, alternative='two-sided')\n",
    "print('t:', t_statistic ,'and', 'p : ',p_value)"
   ]
  },
  {
   "cell_type": "code",
   "execution_count": 13,
   "id": "b62693b0",
   "metadata": {},
   "outputs": [
    {
     "name": "stdout",
     "output_type": "stream",
     "text": [
      "CL: (9.693107747881282, 25.215983161209625)\n",
      "t: -5.036915894402557 and p :  0.0005089271585821131\n"
     ]
    }
   ],
   "source": [
    "Par = hd['HALT']\n",
    "meanPar = Par.mean()\n",
    "df=10\n",
    "SePar = sem(Par)\n",
    "b = t.interval(0.95,df,loc=meanPar,scale=SePar)\n",
    "print('CL:', b)\n",
    "t_statistic, p_value = stats.ttest_1samp(Par, popmean=35, alternative='two-sided')\n",
    "print('t:', t_statistic ,'and', 'p : ',p_value)"
   ]
  },
  {
   "cell_type": "code",
   "execution_count": 14,
   "id": "6a07983a",
   "metadata": {},
   "outputs": [
    {
     "name": "stdout",
     "output_type": "stream",
     "text": [
      "CL: (-0.2986463477058562, 1.9350099840694925)\n",
      "t: -20.31333500308033 and p :  1.8433897313396538e-09\n"
     ]
    }
   ],
   "source": [
    "Par = hd['HALT-JOB']\n",
    "meanPar = Par.mean()\n",
    "df=10\n",
    "SePar = sem(Par)\n",
    "b = t.interval(0.95,df,loc=meanPar,scale=SePar)\n",
    "print('CL:', b)\n",
    "t_statistic, p_value = stats.ttest_1samp(Par, popmean=11, alternative='two-sided')\n",
    "print('t:', t_statistic ,'and', 'p : ',p_value)"
   ]
  },
  {
   "cell_type": "code",
   "execution_count": 15,
   "id": "d3815e08",
   "metadata": {},
   "outputs": [
    {
     "name": "stdout",
     "output_type": "stream",
     "text": [
      "CL: (2.2497755346801207, 9.932042647138061)\n",
      "t: -2.8476323518185196 and p :  0.017320252691037125\n"
     ]
    }
   ],
   "source": [
    "Par = hd['HALT-DA']\n",
    "meanPar = Par.mean()\n",
    "df=10\n",
    "SePar = sem(Par)\n",
    "b = t.interval(0.95,df,loc=meanPar,scale=SePar)\n",
    "print('CL:', b)\n",
    "t_statistic, p_value = stats.ttest_1samp(Par, popmean=11, alternative='two-sided')\n",
    "print('t:', t_statistic ,'and', 'p : ',p_value)"
   ]
  },
  {
   "cell_type": "code",
   "execution_count": 16,
   "id": "6818a1cb",
   "metadata": {},
   "outputs": [
    {
     "name": "stdout",
     "output_type": "stream",
     "text": [
      "CL: (2.20374602230569, 5.978072159512491)\n",
      "t: -8.157437024080744 and p :  9.92313080574862e-06\n"
     ]
    }
   ],
   "source": [
    "Par = hd['HALT-HW']\n",
    "meanPar = Par.mean()\n",
    "df=10\n",
    "SePar = sem(Par)\n",
    "b = t.interval(0.95,df,loc=meanPar,scale=SePar)\n",
    "print('CL:', b)\n",
    "t_statistic, p_value = stats.ttest_1samp(Par, popmean=11, alternative='two-sided')\n",
    "print('t:', t_statistic ,'and', 'p : ',p_value)"
   ]
  },
  {
   "cell_type": "code",
   "execution_count": 17,
   "id": "21f76750",
   "metadata": {},
   "outputs": [
    {
     "name": "stdout",
     "output_type": "stream",
     "text": [
      "CL: (2.782159082571884, 8.672386371973571)\n",
      "t: -3.9891053146005624 and p :  0.0025629981488842\n"
     ]
    }
   ],
   "source": [
    "Par = hd['HALT-1/2HW']\n",
    "meanPar = Par.mean()\n",
    "df=10\n",
    "SePar = sem(Par)\n",
    "b = t.interval(0.95,df,loc=meanPar,scale=SePar)\n",
    "print('CL:', b)\n",
    "t_statistic, p_value = stats.ttest_1samp(Par, popmean=11, alternative='two-sided')\n",
    "print('t:', t_statistic ,'and', 'p : ',p_value)"
   ]
  },
  {
   "cell_type": "code",
   "execution_count": 18,
   "id": "bf8777b6",
   "metadata": {},
   "outputs": [
    {
     "name": "stdout",
     "output_type": "stream",
     "text": [
      "CL: (0.04938374145214908, 1.4051617130933054)\n",
      "t: -33.765208213696624 and p :  1.2275019211050967e-11\n"
     ]
    }
   ],
   "source": [
    "Par = hd['HALT-FANS']\n",
    "meanPar = Par.mean()\n",
    "df=10\n",
    "SePar = sem(Par)\n",
    "b = t.interval(0.95,df,loc=meanPar,scale=SePar)\n",
    "print('CL:', b)\n",
    "t_statistic, p_value = stats.ttest_1samp(Par, popmean=11, alternative='two-sided')\n",
    "print('t:', t_statistic ,'and', 'p : ',p_value)"
   ]
  },
  {
   "cell_type": "code",
   "execution_count": 19,
   "id": "aca3ea90",
   "metadata": {},
   "outputs": [
    {
     "name": "stdout",
     "output_type": "stream",
     "text": [
      "CL: (37.76265822571687, 50.23734177428313)\n",
      "t: 11.788448473034613 and p :  3.452702871436848e-07\n"
     ]
    }
   ],
   "source": [
    "Par = hd['STAI-R']\n",
    "meanPar = Par.mean()\n",
    "df=10\n",
    "SePar = sem(Par)\n",
    "b = t.interval(0.95,df,loc=meanPar,scale=SePar)\n",
    "print('CL:', b)\n",
    "t_statistic, p_value = stats.ttest_1samp(Par, popmean=11, alternative='two-sided')\n",
    "print('t:', t_statistic ,'and', 'p : ',p_value)\n"
   ]
  },
  {
   "cell_type": "code",
   "execution_count": 20,
   "id": "c2a63da9",
   "metadata": {},
   "outputs": [
    {
     "name": "stdout",
     "output_type": "stream",
     "text": [
      "CL: (42.03777507697649, 55.96222492302351)\n",
      "t: 12.161238298216027 and p :  2.5765414723206023e-07\n"
     ]
    }
   ],
   "source": [
    "Par = hd['STAI-P']\n",
    "meanPar = Par.mean()\n",
    "df=10\n",
    "SePar = sem(Par)\n",
    "b = t.interval(0.95,df,loc=meanPar,scale=SePar)\n",
    "print('CL:', b)\n",
    "t_statistic, p_value = stats.ttest_1samp(Par, popmean=11, alternative='two-sided')\n",
    "print('t:', t_statistic ,'and', 'p : ',p_value)"
   ]
  },
  {
   "cell_type": "code",
   "execution_count": 21,
   "id": "e46edb16",
   "metadata": {},
   "outputs": [
    {
     "name": "stdout",
     "output_type": "stream",
     "text": [
      "CL: (5.047104052497016, 10.225623220230258)\n",
      "t: -2.894514289875972 and p :  0.01598308621723719\n"
     ]
    }
   ],
   "source": [
    "Par = hd['HDRS']\n",
    "meanPar = Par.mean()\n",
    "df=10\n",
    "SePar = sem(Par)\n",
    "b = t.interval(0.95,df,loc=meanPar,scale=SePar)\n",
    "print('CL:', b)\n",
    "t_statistic, p_value = stats.ttest_1samp(Par, popmean=11, alternative='two-sided')\n",
    "print('t:', t_statistic ,'and', 'p : ',p_value)"
   ]
  },
  {
   "cell_type": "code",
   "execution_count": 22,
   "id": "c9b70241",
   "metadata": {},
   "outputs": [
    {
     "name": "stdout",
     "output_type": "stream",
     "text": [
      "CL: (9.49915472578828, 21.773572546938993)\n",
      "t: 1.6832508230603465 and p :  0.12323507700375608\n"
     ]
    }
   ],
   "source": [
    "Par = hd['HAM-A']\n",
    "meanPar = Par.mean()\n",
    "df=10\n",
    "SePar = sem(Par)\n",
    "b = t.interval(0.95,df,loc=meanPar,scale=SePar)\n",
    "print('CL:', b)\n",
    "t_statistic, p_value = stats.ttest_1samp(Par, popmean=11, alternative='two-sided')\n",
    "print('t:', t_statistic ,'and', 'p : ',p_value)"
   ]
  },
  {
   "cell_type": "code",
   "execution_count": 23,
   "id": "b39f8670",
   "metadata": {},
   "outputs": [
    {
     "name": "stdout",
     "output_type": "stream",
     "text": [
      "CL: (26.690402892426437, 29.309597107573563)\n",
      "t: 28.92367451359562 and p :  5.6873742729390275e-11\n"
     ]
    }
   ],
   "source": [
    "Par = hd['MMSE']\n",
    "meanPar = Par.mean()\n",
    "df=10\n",
    "SePar = sem(Par)\n",
    "b = t.interval(0.95,df,loc=meanPar,scale=SePar)\n",
    "print('CL:', b)\n",
    "t_statistic, p_value = stats.ttest_1samp(Par, popmean=11, alternative='two-sided')\n",
    "print('t:', t_statistic ,'and', 'p : ',p_value)"
   ]
  },
  {
   "cell_type": "code",
   "execution_count": 24,
   "id": "d56a2dca",
   "metadata": {},
   "outputs": [
    {
     "name": "stdout",
     "output_type": "stream",
     "text": [
      "CL: (54.38459007527952, 66.16086447017503)\n",
      "t: 18.645366827767475 and p :  4.255330896274611e-09\n"
     ]
    }
   ],
   "source": [
    "Par = hd['EQ-5D']\n",
    "meanPar = Par.mean()\n",
    "df=10\n",
    "SePar = sem(Par)\n",
    "b = t.interval(0.95,df,loc=meanPar,scale=SePar)\n",
    "print('CL:', b)\n",
    "t_statistic, p_value = stats.ttest_1samp(Par, popmean=11, alternative='two-sided')\n",
    "print('t:', t_statistic ,'and', 'p : ',p_value)"
   ]
  },
  {
   "cell_type": "code",
   "execution_count": 25,
   "id": "6b12784d",
   "metadata": {},
   "outputs": [
    {
     "name": "stdout",
     "output_type": "stream",
     "text": [
      "CL: (0.9100580034744394, 1.4535783601619243)\n",
      "t: -80.49844718999243 and p :  2.138730731388044e-15\n"
     ]
    }
   ],
   "source": [
    "Par = hd['EQ-5D2']\n",
    "meanPar = Par.mean()\n",
    "df=10\n",
    "SePar = sem(Par)\n",
    "b = t.interval(0.95,df,loc=meanPar,scale=SePar)\n",
    "print('CL:', b)\n",
    "t_statistic, p_value = stats.ttest_1samp(Par, popmean=11, alternative='two-sided')\n",
    "print('t:', t_statistic ,'and', 'p : ',p_value)"
   ]
  },
  {
   "cell_type": "code",
   "execution_count": 26,
   "id": "241470c8",
   "metadata": {},
   "outputs": [
    {
     "name": "stdout",
     "output_type": "stream",
     "text": [
      "CL: (0.8883510134577328, 1.2934671683604488)\n",
      "t: -109.00000000000003 and p :  1.035525798689497e-16\n"
     ]
    }
   ],
   "source": [
    "Par = hd['EQ-5D3']\n",
    "meanPar = Par.mean()\n",
    "df=10\n",
    "SePar = sem(Par)\n",
    "b = t.interval(0.95,df,loc=meanPar,scale=SePar)\n",
    "print('CL:', b)\n",
    "t_statistic, p_value = stats.ttest_1samp(Par, popmean=11, alternative='two-sided')\n",
    "print('t:', t_statistic ,'and', 'p : ',p_value)"
   ]
  },
  {
   "cell_type": "code",
   "execution_count": 27,
   "id": "52fe19c5",
   "metadata": {},
   "outputs": [
    {
     "name": "stdout",
     "output_type": "stream",
     "text": [
      "CL: (1.2974191434533473, 1.9753081292739256)\n",
      "t: -61.554273380721256 and p :  3.113664568670457e-14\n"
     ]
    }
   ],
   "source": [
    "Par = hd['EQ-5D4']\n",
    "meanPar = Par.mean()\n",
    "df=10\n",
    "SePar = sem(Par)\n",
    "b = t.interval(0.95,df,loc=meanPar,scale=SePar)\n",
    "print('CL:', b)\n",
    "t_statistic, p_value = stats.ttest_1samp(Par, popmean=11, alternative='two-sided')\n",
    "print('t:', t_statistic ,'and', 'p : ',p_value)"
   ]
  },
  {
   "cell_type": "code",
   "execution_count": 28,
   "id": "e2f5bb2e",
   "metadata": {},
   "outputs": [
    {
     "name": "stdout",
     "output_type": "stream",
     "text": [
      "CL: (1.8883510134577328, 2.293467168360449)\n",
      "t: -98.00000000000003 and p :  2.9975628772488456e-16\n"
     ]
    }
   ],
   "source": [
    "Par = hd['EQ-5D5']\n",
    "meanPar = Par.mean()\n",
    "df=10\n",
    "SePar = sem(Par)\n",
    "b = t.interval(0.95,df,loc=meanPar,scale=SePar)\n",
    "print('CL:', b)\n",
    "t_statistic, p_value = stats.ttest_1samp(Par, popmean=11, alternative='two-sided')\n",
    "print('t:', t_statistic ,'and', 'p : ',p_value)"
   ]
  },
  {
   "cell_type": "code",
   "execution_count": 29,
   "id": "adc27919",
   "metadata": {},
   "outputs": [
    {
     "name": "stdout",
     "output_type": "stream",
     "text": [
      "CL: (1.438388472725568, 2.3797933454562505)\n",
      "t: -43.03314829119352 and p :  1.1024252927097153e-12\n"
     ]
    }
   ],
   "source": [
    "Par = hd['EQ-5D6']\n",
    "meanPar = Par.mean()\n",
    "df=10\n",
    "SePar = sem(Par)\n",
    "b = t.interval(0.95,df,loc=meanPar,scale=SePar)\n",
    "print('CL:', b)\n",
    "t_statistic, p_value = stats.ttest_1samp(Par, popmean=11, alternative='two-sided')\n",
    "print('t:', t_statistic ,'and', 'p : ',p_value)"
   ]
  },
  {
   "cell_type": "markdown",
   "id": "166d66b9",
   "metadata": {},
   "source": [
    "### Корреляция Пирсона"
   ]
  },
  {
   "cell_type": "code",
   "execution_count": 30,
   "id": "192beb9a",
   "metadata": {},
   "outputs": [
    {
     "name": "stderr",
     "output_type": "stream",
     "text": [
      "C:\\Users\\elvin\\AppData\\Local\\Temp\\ipykernel_7408\\1590119908.py:2: FutureWarning: The default value of numeric_only in DataFrame.corr is deprecated. In a future version, it will default to False. Select only valid columns or specify the value of numeric_only to silence this warning.\n"
     ]
    },
    {
     "data": {
      "image/png": "[encoded data removed]",
      "text/plain": [
       "<Figure size 960x720 with 2 Axes>"
      ]
     },
     "metadata": {},
     "output_type": "display_data"
    }
   ],
   "source": [
    "plt.figure(figsize=(16,12), dpi= 60)\n",
    "sns.heatmap(hd.corr(), xticklabels=hd.corr().columns, yticklabels=hd.corr().columns,cmap='magma',  center=0, annot=True)\n",
    "\n",
    "# Decorations\n",
    "plt.title('Корреляция Пирсона', fontsize=14)\n",
    "plt.xticks(fontsize=12)\n",
    "plt.yticks(fontsize=12)\n",
    "plt.show()"
   ]
  },
  {
   "cell_type": "code",
   "execution_count": 31,
   "id": "79016b36",
   "metadata": {},
   "outputs": [
    {
     "ename": "NameError",
     "evalue": "name 'sex' is not defined",
     "output_type": "error",
     "traceback": [
      "\u001b[1;31m---------------------------------------------------------------------------\u001b[0m",
      "\u001b[1;31mNameError\u001b[0m                                 Traceback (most recent call last)",
      "Cell \u001b[1;32mIn [31], line 1\u001b[0m\n\u001b[1;32m----> 1\u001b[0m a \u001b[38;5;241m=\u001b[39m \u001b[43msex\u001b[49m\u001b[38;5;241m.\u001b[39mdescribe()\n\u001b[0;32m      2\u001b[0m b \u001b[38;5;241m=\u001b[39m EQ_5D2\u001b[38;5;241m.\u001b[39mdescribe()\n\u001b[0;32m      3\u001b[0m c \u001b[38;5;241m=\u001b[39m EQ_5D3\u001b[38;5;241m.\u001b[39mdescribe()\n",
      "\u001b[1;31mNameError\u001b[0m: name 'sex' is not defined"
     ]
    }
   ],
   "source": [
    "a = sex.describe()\n",
    "b = EQ_5D2.describe()\n",
    "c = EQ_5D3.describe()\n",
    "d = EQ_5D4.describe()\n",
    "e = EQ_5D5.describe()\n",
    "f = EQ_5D6.describe()\n",
    "g = HART1.describe()\n",
    "h = HART2.describe()\n",
    "i = HART2.describe()\n",
    "j = HART3.describe()\n",
    "k = HART4.describe()\n",
    "l = HART5.describe()\n",
    "m = HART6.describe()\n",
    "n = HART7.describe()\n",
    "o = ADS.describe()"
   ]
  },
  {
   "cell_type": "markdown",
   "id": "fafbd5f4",
   "metadata": {},
   "source": [
    "### Вычисления пропорций ккатегориальных данных "
   ]
  },
  {
   "cell_type": "code",
   "execution_count": 42,
   "id": "e435bfef",
   "metadata": {},
   "outputs": [
    {
     "data": {
      "text/html": [
       "<div>\n",
       "<style scoped>\n",
       "    .dataframe tbody tr th:only-of-type {\n",
       "        vertical-align: middle;\n",
       "    }\n",
       "\n",
       "    .dataframe tbody tr th {\n",
       "        vertical-align: top;\n",
       "    }\n",
       "\n",
       "    .dataframe thead th {\n",
       "        text-align: right;\n",
       "    }\n",
       "</style>\n",
       "<table border=\"1\" class=\"dataframe\">\n",
       "  <thead>\n",
       "    <tr style=\"text-align: right;\">\n",
       "      <th></th>\n",
       "      <th>counts</th>\n",
       "      <th>freqs</th>\n",
       "    </tr>\n",
       "    <tr>\n",
       "      <th>categories</th>\n",
       "      <th></th>\n",
       "      <th></th>\n",
       "    </tr>\n",
       "  </thead>\n",
       "  <tbody>\n",
       "    <tr>\n",
       "      <th>Ж</th>\n",
       "      <td>7</td>\n",
       "      <td>0.636364</td>\n",
       "    </tr>\n",
       "    <tr>\n",
       "      <th>М</th>\n",
       "      <td>4</td>\n",
       "      <td>0.363636</td>\n",
       "    </tr>\n",
       "  </tbody>\n",
       "</table>\n",
       "</div>"
      ],
      "text/plain": [
       "            counts     freqs\n",
       "categories                  \n",
       "Ж                7  0.636364\n",
       "М                4  0.363636"
      ]
     },
     "execution_count": 42,
     "metadata": {},
     "output_type": "execute_result"
    }
   ],
   "source": [
    "a"
   ]
  },
  {
   "cell_type": "code",
   "execution_count": 43,
   "id": "bf7340bb",
   "metadata": {},
   "outputs": [
    {
     "data": {
      "text/html": [
       "<div>\n",
       "<style scoped>\n",
       "    .dataframe tbody tr th:only-of-type {\n",
       "        vertical-align: middle;\n",
       "    }\n",
       "\n",
       "    .dataframe tbody tr th {\n",
       "        vertical-align: top;\n",
       "    }\n",
       "\n",
       "    .dataframe thead th {\n",
       "        text-align: right;\n",
       "    }\n",
       "</style>\n",
       "<table border=\"1\" class=\"dataframe\">\n",
       "  <thead>\n",
       "    <tr style=\"text-align: right;\">\n",
       "      <th></th>\n",
       "      <th>counts</th>\n",
       "      <th>freqs</th>\n",
       "    </tr>\n",
       "    <tr>\n",
       "      <th>categories</th>\n",
       "      <th></th>\n",
       "      <th></th>\n",
       "    </tr>\n",
       "  </thead>\n",
       "  <tbody>\n",
       "    <tr>\n",
       "      <th>1</th>\n",
       "      <td>9</td>\n",
       "      <td>0.818182</td>\n",
       "    </tr>\n",
       "    <tr>\n",
       "      <th>2</th>\n",
       "      <td>2</td>\n",
       "      <td>0.181818</td>\n",
       "    </tr>\n",
       "  </tbody>\n",
       "</table>\n",
       "</div>"
      ],
      "text/plain": [
       "            counts     freqs\n",
       "categories                  \n",
       "1                9  0.818182\n",
       "2                2  0.181818"
      ]
     },
     "execution_count": 43,
     "metadata": {},
     "output_type": "execute_result"
    }
   ],
   "source": [
    "b"
   ]
  },
  {
   "cell_type": "code",
   "execution_count": 44,
   "id": "e0b2885b",
   "metadata": {},
   "outputs": [
    {
     "data": {
      "text/html": [
       "<div>\n",
       "<style scoped>\n",
       "    .dataframe tbody tr th:only-of-type {\n",
       "        vertical-align: middle;\n",
       "    }\n",
       "\n",
       "    .dataframe tbody tr th {\n",
       "        vertical-align: top;\n",
       "    }\n",
       "\n",
       "    .dataframe thead th {\n",
       "        text-align: right;\n",
       "    }\n",
       "</style>\n",
       "<table border=\"1\" class=\"dataframe\">\n",
       "  <thead>\n",
       "    <tr style=\"text-align: right;\">\n",
       "      <th></th>\n",
       "      <th>counts</th>\n",
       "      <th>freqs</th>\n",
       "    </tr>\n",
       "    <tr>\n",
       "      <th>categories</th>\n",
       "      <th></th>\n",
       "      <th></th>\n",
       "    </tr>\n",
       "  </thead>\n",
       "  <tbody>\n",
       "    <tr>\n",
       "      <th>1</th>\n",
       "      <td>10</td>\n",
       "      <td>0.909091</td>\n",
       "    </tr>\n",
       "    <tr>\n",
       "      <th>2</th>\n",
       "      <td>1</td>\n",
       "      <td>0.090909</td>\n",
       "    </tr>\n",
       "  </tbody>\n",
       "</table>\n",
       "</div>"
      ],
      "text/plain": [
       "            counts     freqs\n",
       "categories                  \n",
       "1               10  0.909091\n",
       "2                1  0.090909"
      ]
     },
     "execution_count": 44,
     "metadata": {},
     "output_type": "execute_result"
    }
   ],
   "source": [
    "c"
   ]
  },
  {
   "cell_type": "code",
   "execution_count": 45,
   "id": "36dc3ead",
   "metadata": {},
   "outputs": [
    {
     "data": {
      "text/html": [
       "<div>\n",
       "<style scoped>\n",
       "    .dataframe tbody tr th:only-of-type {\n",
       "        vertical-align: middle;\n",
       "    }\n",
       "\n",
       "    .dataframe tbody tr th {\n",
       "        vertical-align: top;\n",
       "    }\n",
       "\n",
       "    .dataframe thead th {\n",
       "        text-align: right;\n",
       "    }\n",
       "</style>\n",
       "<table border=\"1\" class=\"dataframe\">\n",
       "  <thead>\n",
       "    <tr style=\"text-align: right;\">\n",
       "      <th></th>\n",
       "      <th>counts</th>\n",
       "      <th>freqs</th>\n",
       "    </tr>\n",
       "    <tr>\n",
       "      <th>categories</th>\n",
       "      <th></th>\n",
       "      <th></th>\n",
       "    </tr>\n",
       "  </thead>\n",
       "  <tbody>\n",
       "    <tr>\n",
       "      <th>1</th>\n",
       "      <td>4</td>\n",
       "      <td>0.363636</td>\n",
       "    </tr>\n",
       "    <tr>\n",
       "      <th>2</th>\n",
       "      <td>7</td>\n",
       "      <td>0.636364</td>\n",
       "    </tr>\n",
       "  </tbody>\n",
       "</table>\n",
       "</div>"
      ],
      "text/plain": [
       "            counts     freqs\n",
       "categories                  \n",
       "1                4  0.363636\n",
       "2                7  0.636364"
      ]
     },
     "execution_count": 45,
     "metadata": {},
     "output_type": "execute_result"
    }
   ],
   "source": [
    "d"
   ]
  },
  {
   "cell_type": "code",
   "execution_count": 46,
   "id": "fce455b7",
   "metadata": {},
   "outputs": [
    {
     "data": {
      "text/html": [
       "<div>\n",
       "<style scoped>\n",
       "    .dataframe tbody tr th:only-of-type {\n",
       "        vertical-align: middle;\n",
       "    }\n",
       "\n",
       "    .dataframe tbody tr th {\n",
       "        vertical-align: top;\n",
       "    }\n",
       "\n",
       "    .dataframe thead th {\n",
       "        text-align: right;\n",
       "    }\n",
       "</style>\n",
       "<table border=\"1\" class=\"dataframe\">\n",
       "  <thead>\n",
       "    <tr style=\"text-align: right;\">\n",
       "      <th></th>\n",
       "      <th>counts</th>\n",
       "      <th>freqs</th>\n",
       "    </tr>\n",
       "    <tr>\n",
       "      <th>categories</th>\n",
       "      <th></th>\n",
       "      <th></th>\n",
       "    </tr>\n",
       "  </thead>\n",
       "  <tbody>\n",
       "    <tr>\n",
       "      <th>2</th>\n",
       "      <td>10</td>\n",
       "      <td>0.909091</td>\n",
       "    </tr>\n",
       "    <tr>\n",
       "      <th>3</th>\n",
       "      <td>1</td>\n",
       "      <td>0.090909</td>\n",
       "    </tr>\n",
       "  </tbody>\n",
       "</table>\n",
       "</div>"
      ],
      "text/plain": [
       "            counts     freqs\n",
       "categories                  \n",
       "2               10  0.909091\n",
       "3                1  0.090909"
      ]
     },
     "execution_count": 46,
     "metadata": {},
     "output_type": "execute_result"
    }
   ],
   "source": [
    "e"
   ]
  },
  {
   "cell_type": "code",
   "execution_count": 47,
   "id": "6251b33e",
   "metadata": {},
   "outputs": [
    {
     "data": {
      "text/html": [
       "<div>\n",
       "<style scoped>\n",
       "    .dataframe tbody tr th:only-of-type {\n",
       "        vertical-align: middle;\n",
       "    }\n",
       "\n",
       "    .dataframe tbody tr th {\n",
       "        vertical-align: top;\n",
       "    }\n",
       "\n",
       "    .dataframe thead th {\n",
       "        text-align: right;\n",
       "    }\n",
       "</style>\n",
       "<table border=\"1\" class=\"dataframe\">\n",
       "  <thead>\n",
       "    <tr style=\"text-align: right;\">\n",
       "      <th></th>\n",
       "      <th>counts</th>\n",
       "      <th>freqs</th>\n",
       "    </tr>\n",
       "    <tr>\n",
       "      <th>categories</th>\n",
       "      <th></th>\n",
       "      <th></th>\n",
       "    </tr>\n",
       "  </thead>\n",
       "  <tbody>\n",
       "    <tr>\n",
       "      <th>1</th>\n",
       "      <td>3</td>\n",
       "      <td>0.272727</td>\n",
       "    </tr>\n",
       "    <tr>\n",
       "      <th>2</th>\n",
       "      <td>6</td>\n",
       "      <td>0.545455</td>\n",
       "    </tr>\n",
       "    <tr>\n",
       "      <th>3</th>\n",
       "      <td>2</td>\n",
       "      <td>0.181818</td>\n",
       "    </tr>\n",
       "  </tbody>\n",
       "</table>\n",
       "</div>"
      ],
      "text/plain": [
       "            counts     freqs\n",
       "categories                  \n",
       "1                3  0.272727\n",
       "2                6  0.545455\n",
       "3                2  0.181818"
      ]
     },
     "execution_count": 47,
     "metadata": {},
     "output_type": "execute_result"
    }
   ],
   "source": [
    "f"
   ]
  },
  {
   "cell_type": "code",
   "execution_count": 48,
   "id": "ec8ed1ac",
   "metadata": {},
   "outputs": [
    {
     "data": {
      "text/html": [
       "<div>\n",
       "<style scoped>\n",
       "    .dataframe tbody tr th:only-of-type {\n",
       "        vertical-align: middle;\n",
       "    }\n",
       "\n",
       "    .dataframe tbody tr th {\n",
       "        vertical-align: top;\n",
       "    }\n",
       "\n",
       "    .dataframe thead th {\n",
       "        text-align: right;\n",
       "    }\n",
       "</style>\n",
       "<table border=\"1\" class=\"dataframe\">\n",
       "  <thead>\n",
       "    <tr style=\"text-align: right;\">\n",
       "      <th></th>\n",
       "      <th>counts</th>\n",
       "      <th>freqs</th>\n",
       "    </tr>\n",
       "    <tr>\n",
       "      <th>categories</th>\n",
       "      <th></th>\n",
       "      <th></th>\n",
       "    </tr>\n",
       "  </thead>\n",
       "  <tbody>\n",
       "    <tr>\n",
       "      <th>3-5</th>\n",
       "      <td>4</td>\n",
       "      <td>0.363636</td>\n",
       "    </tr>\n",
       "    <tr>\n",
       "      <th>6-15</th>\n",
       "      <td>7</td>\n",
       "      <td>0.636364</td>\n",
       "    </tr>\n",
       "  </tbody>\n",
       "</table>\n",
       "</div>"
      ],
      "text/plain": [
       "            counts     freqs\n",
       "categories                  \n",
       "3-5              4  0.363636\n",
       "6-15             7  0.636364"
      ]
     },
     "execution_count": 48,
     "metadata": {},
     "output_type": "execute_result"
    }
   ],
   "source": [
    "g"
   ]
  },
  {
   "cell_type": "code",
   "execution_count": 49,
   "id": "c5ecd70f",
   "metadata": {},
   "outputs": [
    {
     "data": {
      "text/html": [
       "<div>\n",
       "<style scoped>\n",
       "    .dataframe tbody tr th:only-of-type {\n",
       "        vertical-align: middle;\n",
       "    }\n",
       "\n",
       "    .dataframe tbody tr th {\n",
       "        vertical-align: top;\n",
       "    }\n",
       "\n",
       "    .dataframe thead th {\n",
       "        text-align: right;\n",
       "    }\n",
       "</style>\n",
       "<table border=\"1\" class=\"dataframe\">\n",
       "  <thead>\n",
       "    <tr style=\"text-align: right;\">\n",
       "      <th></th>\n",
       "      <th>counts</th>\n",
       "      <th>freqs</th>\n",
       "    </tr>\n",
       "    <tr>\n",
       "      <th>categories</th>\n",
       "      <th></th>\n",
       "      <th></th>\n",
       "    </tr>\n",
       "  </thead>\n",
       "  <tbody>\n",
       "    <tr>\n",
       "      <th>1-5</th>\n",
       "      <td>6</td>\n",
       "      <td>0.545455</td>\n",
       "    </tr>\n",
       "    <tr>\n",
       "      <th>11-20</th>\n",
       "      <td>2</td>\n",
       "      <td>0.181818</td>\n",
       "    </tr>\n",
       "    <tr>\n",
       "      <th>21</th>\n",
       "      <td>1</td>\n",
       "      <td>0.090909</td>\n",
       "    </tr>\n",
       "    <tr>\n",
       "      <th>6-10</th>\n",
       "      <td>2</td>\n",
       "      <td>0.181818</td>\n",
       "    </tr>\n",
       "  </tbody>\n",
       "</table>\n",
       "</div>"
      ],
      "text/plain": [
       "            counts     freqs\n",
       "categories                  \n",
       "1-5              6  0.545455\n",
       "11-20            2  0.181818\n",
       "21               1  0.090909\n",
       "6-10             2  0.181818"
      ]
     },
     "execution_count": 49,
     "metadata": {},
     "output_type": "execute_result"
    }
   ],
   "source": [
    "h"
   ]
  },
  {
   "cell_type": "code",
   "execution_count": 50,
   "id": "243c59a9",
   "metadata": {},
   "outputs": [
    {
     "data": {
      "text/html": [
       "<div>\n",
       "<style scoped>\n",
       "    .dataframe tbody tr th:only-of-type {\n",
       "        vertical-align: middle;\n",
       "    }\n",
       "\n",
       "    .dataframe tbody tr th {\n",
       "        vertical-align: top;\n",
       "    }\n",
       "\n",
       "    .dataframe thead th {\n",
       "        text-align: right;\n",
       "    }\n",
       "</style>\n",
       "<table border=\"1\" class=\"dataframe\">\n",
       "  <thead>\n",
       "    <tr style=\"text-align: right;\">\n",
       "      <th></th>\n",
       "      <th>counts</th>\n",
       "      <th>freqs</th>\n",
       "    </tr>\n",
       "    <tr>\n",
       "      <th>categories</th>\n",
       "      <th></th>\n",
       "      <th></th>\n",
       "    </tr>\n",
       "  </thead>\n",
       "  <tbody>\n",
       "    <tr>\n",
       "      <th>1-5</th>\n",
       "      <td>6</td>\n",
       "      <td>0.545455</td>\n",
       "    </tr>\n",
       "    <tr>\n",
       "      <th>11-20</th>\n",
       "      <td>2</td>\n",
       "      <td>0.181818</td>\n",
       "    </tr>\n",
       "    <tr>\n",
       "      <th>21</th>\n",
       "      <td>1</td>\n",
       "      <td>0.090909</td>\n",
       "    </tr>\n",
       "    <tr>\n",
       "      <th>6-10</th>\n",
       "      <td>2</td>\n",
       "      <td>0.181818</td>\n",
       "    </tr>\n",
       "  </tbody>\n",
       "</table>\n",
       "</div>"
      ],
      "text/plain": [
       "            counts     freqs\n",
       "categories                  \n",
       "1-5              6  0.545455\n",
       "11-20            2  0.181818\n",
       "21               1  0.090909\n",
       "6-10             2  0.181818"
      ]
     },
     "execution_count": 50,
     "metadata": {},
     "output_type": "execute_result"
    }
   ],
   "source": [
    "i"
   ]
  },
  {
   "cell_type": "code",
   "execution_count": 51,
   "id": "74ab2ebf",
   "metadata": {},
   "outputs": [
    {
     "data": {
      "text/html": [
       "<div>\n",
       "<style scoped>\n",
       "    .dataframe tbody tr th:only-of-type {\n",
       "        vertical-align: middle;\n",
       "    }\n",
       "\n",
       "    .dataframe tbody tr th {\n",
       "        vertical-align: top;\n",
       "    }\n",
       "\n",
       "    .dataframe thead th {\n",
       "        text-align: right;\n",
       "    }\n",
       "</style>\n",
       "<table border=\"1\" class=\"dataframe\">\n",
       "  <thead>\n",
       "    <tr style=\"text-align: right;\">\n",
       "      <th></th>\n",
       "      <th>counts</th>\n",
       "      <th>freqs</th>\n",
       "    </tr>\n",
       "    <tr>\n",
       "      <th>categories</th>\n",
       "      <th></th>\n",
       "      <th></th>\n",
       "    </tr>\n",
       "  </thead>\n",
       "  <tbody>\n",
       "    <tr>\n",
       "      <th>0</th>\n",
       "      <td>1</td>\n",
       "      <td>0.090909</td>\n",
       "    </tr>\n",
       "    <tr>\n",
       "      <th>1-5</th>\n",
       "      <td>9</td>\n",
       "      <td>0.818182</td>\n",
       "    </tr>\n",
       "    <tr>\n",
       "      <th>6-10</th>\n",
       "      <td>1</td>\n",
       "      <td>0.090909</td>\n",
       "    </tr>\n",
       "  </tbody>\n",
       "</table>\n",
       "</div>"
      ],
      "text/plain": [
       "            counts     freqs\n",
       "categories                  \n",
       "0                1  0.090909\n",
       "1-5              9  0.818182\n",
       "6-10             1  0.090909"
      ]
     },
     "execution_count": 51,
     "metadata": {},
     "output_type": "execute_result"
    }
   ],
   "source": [
    "j"
   ]
  },
  {
   "cell_type": "code",
   "execution_count": 52,
   "id": "3cfad8f9",
   "metadata": {},
   "outputs": [
    {
     "data": {
      "text/html": [
       "<div>\n",
       "<style scoped>\n",
       "    .dataframe tbody tr th:only-of-type {\n",
       "        vertical-align: middle;\n",
       "    }\n",
       "\n",
       "    .dataframe tbody tr th {\n",
       "        vertical-align: top;\n",
       "    }\n",
       "\n",
       "    .dataframe thead th {\n",
       "        text-align: right;\n",
       "    }\n",
       "</style>\n",
       "<table border=\"1\" class=\"dataframe\">\n",
       "  <thead>\n",
       "    <tr style=\"text-align: right;\">\n",
       "      <th></th>\n",
       "      <th>counts</th>\n",
       "      <th>freqs</th>\n",
       "    </tr>\n",
       "    <tr>\n",
       "      <th>categories</th>\n",
       "      <th></th>\n",
       "      <th></th>\n",
       "    </tr>\n",
       "  </thead>\n",
       "  <tbody>\n",
       "    <tr>\n",
       "      <th>1-2</th>\n",
       "      <td>3</td>\n",
       "      <td>0.272727</td>\n",
       "    </tr>\n",
       "    <tr>\n",
       "      <th>3-5</th>\n",
       "      <td>4</td>\n",
       "      <td>0.363636</td>\n",
       "    </tr>\n",
       "    <tr>\n",
       "      <th>6-15</th>\n",
       "      <td>4</td>\n",
       "      <td>0.363636</td>\n",
       "    </tr>\n",
       "  </tbody>\n",
       "</table>\n",
       "</div>"
      ],
      "text/plain": [
       "            counts     freqs\n",
       "categories                  \n",
       "1-2              3  0.272727\n",
       "3-5              4  0.363636\n",
       "6-15             4  0.363636"
      ]
     },
     "execution_count": 52,
     "metadata": {},
     "output_type": "execute_result"
    }
   ],
   "source": [
    "k"
   ]
  },
  {
   "cell_type": "code",
   "execution_count": 53,
   "id": "25c1dc28",
   "metadata": {},
   "outputs": [
    {
     "data": {
      "text/html": [
       "<div>\n",
       "<style scoped>\n",
       "    .dataframe tbody tr th:only-of-type {\n",
       "        vertical-align: middle;\n",
       "    }\n",
       "\n",
       "    .dataframe tbody tr th {\n",
       "        vertical-align: top;\n",
       "    }\n",
       "\n",
       "    .dataframe thead th {\n",
       "        text-align: right;\n",
       "    }\n",
       "</style>\n",
       "<table border=\"1\" class=\"dataframe\">\n",
       "  <thead>\n",
       "    <tr style=\"text-align: right;\">\n",
       "      <th></th>\n",
       "      <th>counts</th>\n",
       "      <th>freqs</th>\n",
       "    </tr>\n",
       "    <tr>\n",
       "      <th>categories</th>\n",
       "      <th></th>\n",
       "      <th></th>\n",
       "    </tr>\n",
       "  </thead>\n",
       "  <tbody>\n",
       "    <tr>\n",
       "      <th>иногда</th>\n",
       "      <td>3</td>\n",
       "      <td>0.272727</td>\n",
       "    </tr>\n",
       "    <tr>\n",
       "      <th>никогда</th>\n",
       "      <td>1</td>\n",
       "      <td>0.090909</td>\n",
       "    </tr>\n",
       "    <tr>\n",
       "      <th>часто</th>\n",
       "      <td>7</td>\n",
       "      <td>0.636364</td>\n",
       "    </tr>\n",
       "  </tbody>\n",
       "</table>\n",
       "</div>"
      ],
      "text/plain": [
       "            counts     freqs\n",
       "categories                  \n",
       "иногда           3  0.272727\n",
       "никогда          1  0.090909\n",
       "часто            7  0.636364"
      ]
     },
     "execution_count": 53,
     "metadata": {},
     "output_type": "execute_result"
    }
   ],
   "source": [
    "l"
   ]
  },
  {
   "cell_type": "code",
   "execution_count": 55,
   "id": "6e6e4f67",
   "metadata": {},
   "outputs": [
    {
     "data": {
      "text/html": [
       "<div>\n",
       "<style scoped>\n",
       "    .dataframe tbody tr th:only-of-type {\n",
       "        vertical-align: middle;\n",
       "    }\n",
       "\n",
       "    .dataframe tbody tr th {\n",
       "        vertical-align: top;\n",
       "    }\n",
       "\n",
       "    .dataframe thead th {\n",
       "        text-align: right;\n",
       "    }\n",
       "</style>\n",
       "<table border=\"1\" class=\"dataframe\">\n",
       "  <thead>\n",
       "    <tr style=\"text-align: right;\">\n",
       "      <th></th>\n",
       "      <th>counts</th>\n",
       "      <th>freqs</th>\n",
       "    </tr>\n",
       "    <tr>\n",
       "      <th>categories</th>\n",
       "      <th></th>\n",
       "      <th></th>\n",
       "    </tr>\n",
       "  </thead>\n",
       "  <tbody>\n",
       "    <tr>\n",
       "      <th>всегда</th>\n",
       "      <td>4</td>\n",
       "      <td>0.363636</td>\n",
       "    </tr>\n",
       "    <tr>\n",
       "      <th>иногда</th>\n",
       "      <td>2</td>\n",
       "      <td>0.181818</td>\n",
       "    </tr>\n",
       "    <tr>\n",
       "      <th>никогда</th>\n",
       "      <td>2</td>\n",
       "      <td>0.181818</td>\n",
       "    </tr>\n",
       "    <tr>\n",
       "      <th>редко</th>\n",
       "      <td>1</td>\n",
       "      <td>0.090909</td>\n",
       "    </tr>\n",
       "    <tr>\n",
       "      <th>часто</th>\n",
       "      <td>2</td>\n",
       "      <td>0.181818</td>\n",
       "    </tr>\n",
       "  </tbody>\n",
       "</table>\n",
       "</div>"
      ],
      "text/plain": [
       "            counts     freqs\n",
       "categories                  \n",
       "всегда           4  0.363636\n",
       "иногда           2  0.181818\n",
       "никогда          2  0.181818\n",
       "редко            1  0.090909\n",
       "часто            2  0.181818"
      ]
     },
     "execution_count": 55,
     "metadata": {},
     "output_type": "execute_result"
    }
   ],
   "source": [
    "m"
   ]
  },
  {
   "cell_type": "code",
   "execution_count": 56,
   "id": "6f47ceae",
   "metadata": {},
   "outputs": [
    {
     "data": {
      "text/html": [
       "<div>\n",
       "<style scoped>\n",
       "    .dataframe tbody tr th:only-of-type {\n",
       "        vertical-align: middle;\n",
       "    }\n",
       "\n",
       "    .dataframe tbody tr th {\n",
       "        vertical-align: top;\n",
       "    }\n",
       "\n",
       "    .dataframe thead th {\n",
       "        text-align: right;\n",
       "    }\n",
       "</style>\n",
       "<table border=\"1\" class=\"dataframe\">\n",
       "  <thead>\n",
       "    <tr style=\"text-align: right;\">\n",
       "      <th></th>\n",
       "      <th>counts</th>\n",
       "      <th>freqs</th>\n",
       "    </tr>\n",
       "    <tr>\n",
       "      <th>categories</th>\n",
       "      <th></th>\n",
       "      <th></th>\n",
       "    </tr>\n",
       "  </thead>\n",
       "  <tbody>\n",
       "    <tr>\n",
       "      <th>иногда</th>\n",
       "      <td>1</td>\n",
       "      <td>0.090909</td>\n",
       "    </tr>\n",
       "    <tr>\n",
       "      <th>никогда</th>\n",
       "      <td>1</td>\n",
       "      <td>0.090909</td>\n",
       "    </tr>\n",
       "    <tr>\n",
       "      <th>редко</th>\n",
       "      <td>2</td>\n",
       "      <td>0.181818</td>\n",
       "    </tr>\n",
       "    <tr>\n",
       "      <th>часто</th>\n",
       "      <td>7</td>\n",
       "      <td>0.636364</td>\n",
       "    </tr>\n",
       "  </tbody>\n",
       "</table>\n",
       "</div>"
      ],
      "text/plain": [
       "            counts     freqs\n",
       "categories                  \n",
       "иногда           1  0.090909\n",
       "никогда          1  0.090909\n",
       "редко            2  0.181818\n",
       "часто            7  0.636364"
      ]
     },
     "execution_count": 56,
     "metadata": {},
     "output_type": "execute_result"
    }
   ],
   "source": [
    "n"
   ]
  },
  {
   "cell_type": "code",
   "execution_count": 57,
   "id": "95aa3b01",
   "metadata": {},
   "outputs": [
    {
     "data": {
      "text/html": [
       "<div>\n",
       "<style scoped>\n",
       "    .dataframe tbody tr th:only-of-type {\n",
       "        vertical-align: middle;\n",
       "    }\n",
       "\n",
       "    .dataframe tbody tr th {\n",
       "        vertical-align: top;\n",
       "    }\n",
       "\n",
       "    .dataframe thead th {\n",
       "        text-align: right;\n",
       "    }\n",
       "</style>\n",
       "<table border=\"1\" class=\"dataframe\">\n",
       "  <thead>\n",
       "    <tr style=\"text-align: right;\">\n",
       "      <th></th>\n",
       "      <th>counts</th>\n",
       "      <th>freqs</th>\n",
       "    </tr>\n",
       "    <tr>\n",
       "      <th>categories</th>\n",
       "      <th></th>\n",
       "      <th></th>\n",
       "    </tr>\n",
       "  </thead>\n",
       "  <tbody>\n",
       "    <tr>\n",
       "      <th>да</th>\n",
       "      <td>6</td>\n",
       "      <td>0.545455</td>\n",
       "    </tr>\n",
       "    <tr>\n",
       "      <th>нет</th>\n",
       "      <td>5</td>\n",
       "      <td>0.454545</td>\n",
       "    </tr>\n",
       "  </tbody>\n",
       "</table>\n",
       "</div>"
      ],
      "text/plain": [
       "            counts     freqs\n",
       "categories                  \n",
       "да               6  0.545455\n",
       "нет              5  0.454545"
      ]
     },
     "execution_count": 57,
     "metadata": {},
     "output_type": "execute_result"
    }
   ],
   "source": [
    "o"
   ]
  },
  {
   "cell_type": "code",
   "execution_count": 67,
   "id": "39e18909",
   "metadata": {},
   "outputs": [
    {
     "data": {
      "image/png": "[encoded data removed]",
      "text/plain": [
       "<Figure size 640x480 with 1 Axes>"
      ]
     },
     "metadata": {},
     "output_type": "display_data"
    }
   ],
   "source": [
    "import matplotlib.pyplot as plt\n",
    "\n",
    "# Make data: I have 2 groups and 4 subgroups\n",
    "group_names=['Пол', 'Антидепрессанты']\n",
    "group_size=[11,11]\n",
    "subgroup_names=['Ж : 63.63 %', 'М : 36.36 %',  'АД : 54,54 %', 'Без АД : 45,45 %']\n",
    "subgroup_size=[7,4,6,5]\n",
    "\n",
    "# Create colors\n",
    "a, b =[plt.cm.Blues, plt.cm.Greens]\n",
    "\n",
    "# First Ring (outside)\n",
    "fig, ax = plt.subplots()\n",
    "ax.axis('equal')\n",
    "mypie, _ = ax.pie(group_size, radius=1.3, labels=group_names, colors= \n",
    "[a(0.6), b(0.6)] )\n",
    "plt.setp( mypie, width=0.3, edgecolor='white')\n",
    "\n",
    "# Second Ring (Inside)\n",
    "mypie2, _ = ax.pie(subgroup_size, radius=1.3-0.3, \n",
    "labels=subgroup_names, labeldistance=0.7, colors=[a(0.5), a(0.4), b(0.5), b(0.4)])\n",
    "plt.setp( mypie2, width=0.4, edgecolor='white')\n",
    "plt.margins(0,0)\n",
    "\n",
    "subgroup_names_legs=['Женщины', 'Mужщины', \n",
    "'Принимали АД', 'Не принимали АД']\n",
    "plt.legend(subgroup_names_legs,loc=(0.9, 0.1))\n",
    "\n",
    "# show it\n",
    "plt.show()"
   ]
  },
  {
   "cell_type": "code",
   "execution_count": 98,
   "id": "c51e9c3a",
   "metadata": {},
   "outputs": [
    {
     "data": {
      "image/png": "[encoded data removed]",
      "text/plain": [
       "<Figure size 640x480 with 1 Axes>"
      ]
     },
     "metadata": {},
     "output_type": "display_data"
    }
   ],
   "source": [
    "# Make data: I have 5 groups and 15 subgroups\n",
    "group_names=['ПОДВИЖНОСТЬ', 'УХОД ЗА СОБОЙ', 'ПОВСЕДНЕВНАЯ ДЕЯТЕЛЬНОСТЬ','БОЛЬ/ДИСКОМФОРТ','ТРЕВОГА/ДЕПРЕССИ']\n",
    "group_size=[11,11,11,11,11]\n",
    "subgroup_names=['81,9 %', '18,1 %', '', ' 90,1 %', '9,9 %', '',\n",
    "                '6,4 %', '63,6 %', '', '', '90,1 %', '9,9 %', '27 %', '54 % ', '18 %']\n",
    "subgroup_size=[9,2,0,10,1,0,4,7,0,0,10,1,3,6,2]\n",
    "\n",
    "# Create colors\n",
    "b, c, d, e, f = [plt.cm.Blues, plt.cm.Reds, plt.cm.RdPu, plt.cm.YlOrRd, plt.cm.BuGn]\n",
    "\n",
    "# First Ring (outside)\n",
    "fig, ax = plt.subplots()\n",
    "ax.axis('equal')\n",
    "mypie, _ = ax.pie(group_size, radius=1.6, labels=group_names, colors= [b(0.6), c(0.6), d(0.6), e(0.6), f(0.6)])\n",
    "plt.setp( mypie, width=0.3, edgecolor='white')\n",
    "\n",
    "# Second Ring (Inside)\n",
    "mypie2, _ = ax.pie(subgroup_size, radius=1.6-0.3, \n",
    "labels=subgroup_names, labeldistance=0.7, colors=[b(0.5), b(0.4), \n",
    "b(0.3), c(0.5), c(0.4), c(0.3), d(0.5), d(0.4), d(0.3), e(0.5), e(0.4), e(0.3), f(0.5), f(0.4), f(0.3)])\n",
    "plt.setp( mypie2, width=0.4, edgecolor='white')\n",
    "plt.margins(0,0)\n",
    "\n",
    "subgroup_names_legs=['Я не испытываю трудностей при ходьбе', 'Я испытываю некоторые трудности при ходьбе', 'Я прикован (-а) к постели', \n",
    "'Я не испытываю трудностей при уходе за собой ', 'Я не испытываю трудностей при уходе за собой ', 'Я не в состоянии сам (-а) мыться или одеваться',\n",
    "                     'Я не испытываю трудностей в моей привычной повседневной деятельности', 'Я испытываю некоторые трудности в моей привычной повседневной деятельности', \n",
    "                     'Я не в состоянии заниматься своей привычной повседневной деятельностью',  'Я не испытываю боли или дискомфорта', 'Я испытываю крайне сильную боль или дискомфорт', 'Я испытываю крайне сильную боль или дискомфорт', 'Я не испытываю тревоги или депрессии', 'Я испытываю умеренную тревогу или депрессию', 'Я испытываю крайне сильную тревогу или депрессию ']\n",
    "plt.legend(loc=(0.9, 0.1))\n",
    "handles, labels = ax.get_legend_handles_labels()\n",
    "\n",
    "ax.legend(handles[3:], subgroup_names_legs, loc=(1.2, 0.1))\n",
    "plt.show()\n",
    "\n",
    "# show it\n",
    "plt.show()"
   ]
  },
  {
   "cell_type": "code",
   "execution_count": 113,
   "id": "14cf81f5",
   "metadata": {},
   "outputs": [
    {
     "data": {
      "image/png": "[encoded data removed]",
      "text/plain": [
       "<Figure size 640x480 with 1 Axes>"
      ]
     },
     "metadata": {},
     "output_type": "display_data"
    }
   ],
   "source": [
    "group_names=['HART1','HART2','HART3','HART4','HART5']\n",
    "group_size=[11,11,11,11,11]\n",
    "subgroup_names=['3-5', '6-15','1-5','6-10','11-20','>21','1-5','6-10','11-20','>21','0','1-5','6-10','1-2','3-5','6-15']\n",
    "subgroup_size=[4,7,6,1,2,2,6,2,2,1,1,9,1,3,4,4]\n",
    "\n",
    "a,b,c,d,e =[plt.cm.summer,plt.cm.winter, plt.cm.cool,plt.cm.magma,plt.cm.inferno]\n",
    "\n",
    "# First Ring (outside)\n",
    "fig, ax = plt.subplots()\n",
    "ax.axis('equal')\n",
    "mypie, _ = ax.pie(group_size, radius=1.3, labels=group_names, colors= [a(0.6), b(0.6),c(0.6), d(0.6), e(0.6)])\n",
    "plt.setp( mypie, width=0.3, edgecolor='white')\n",
    "\n",
    "# Second Ring (Inside)\n",
    "mypie2, _ = ax.pie(subgroup_size, radius=1.3-0.1, \n",
    "labels=subgroup_names, labeldistance=0.7, colors=[a(0.5), a(0.4), b(0.5), b(0.4), b(0.3), b(0.2),\n",
    "                                                  c(0.5), c(0.4), c(0.3), c(0.2),\n",
    "                                                  d(0.5), d(0.4), d(0.3), e(0.5), e(0.4), e(0.3)])\n",
    "plt.setp( mypie2, width=0.4, edgecolor='white')\n",
    "plt.margins(0,0)\n",
    "\n",
    "subgroup_names_legs=['3-5', '6-15','1-5','6-10','11-20','>21','1-5','6-10','11-20','>21','1-5','6-10','11-20','>21','1-2','3-5','6-15']\n",
    "plt.legend(subgroup_names_legs,loc=(0.9, 0.1))\n",
    "\n",
    "# show it\n",
    "plt.show()"
   ]
  },
  {
   "cell_type": "code",
   "execution_count": 140,
   "id": "4bd7ddd3",
   "metadata": {},
   "outputs": [
    {
     "name": "stderr",
     "output_type": "stream",
     "text": [
      "C:\\Users\\elvin\\AppData\\Local\\Temp\\ipykernel_7352\\3244013553.py:1: FutureWarning: The default value of numeric_only in DataFrameGroupBy.mean is deprecated. In a future version, numeric_only will default to False. Either specify numeric_only or select only columns which should be valid for the function.\n"
     ]
    },
    {
     "data": {
      "text/html": [
       "<div>\n",
       "<style scoped>\n",
       "    .dataframe tbody tr th:only-of-type {\n",
       "        vertical-align: middle;\n",
       "    }\n",
       "\n",
       "    .dataframe tbody tr th {\n",
       "        vertical-align: top;\n",
       "    }\n",
       "\n",
       "    .dataframe thead th {\n",
       "        text-align: right;\n",
       "    }\n",
       "</style>\n",
       "<table border=\"1\" class=\"dataframe\">\n",
       "  <thead>\n",
       "    <tr style=\"text-align: right;\">\n",
       "      <th></th>\n",
       "      <th>Возраст</th>\n",
       "      <th>ВАШ</th>\n",
       "      <th>HADS/T</th>\n",
       "      <th>HADS/D</th>\n",
       "      <th>HIT-6</th>\n",
       "      <th>HALT</th>\n",
       "      <th>HALT-JOB</th>\n",
       "      <th>HALT-DA</th>\n",
       "      <th>HALT-HW</th>\n",
       "      <th>HALT-1/2HW</th>\n",
       "      <th>HALT-FANS</th>\n",
       "      <th>STAI-R</th>\n",
       "      <th>STAI-P</th>\n",
       "      <th>HDRS</th>\n",
       "      <th>HAM-A</th>\n",
       "      <th>MMSE</th>\n",
       "      <th>EQ-5D</th>\n",
       "      <th>EQ-5D2</th>\n",
       "      <th>EQ-5D3</th>\n",
       "      <th>EQ-5D4</th>\n",
       "      <th>EQ-5D5</th>\n",
       "      <th>EQ-5D6</th>\n",
       "    </tr>\n",
       "    <tr>\n",
       "      <th>Пол</th>\n",
       "      <th></th>\n",
       "      <th></th>\n",
       "      <th></th>\n",
       "      <th></th>\n",
       "      <th></th>\n",
       "      <th></th>\n",
       "      <th></th>\n",
       "      <th></th>\n",
       "      <th></th>\n",
       "      <th></th>\n",
       "      <th></th>\n",
       "      <th></th>\n",
       "      <th></th>\n",
       "      <th></th>\n",
       "      <th></th>\n",
       "      <th></th>\n",
       "      <th></th>\n",
       "      <th></th>\n",
       "      <th></th>\n",
       "      <th></th>\n",
       "      <th></th>\n",
       "      <th></th>\n",
       "    </tr>\n",
       "  </thead>\n",
       "  <tbody>\n",
       "    <tr>\n",
       "      <th>Ж</th>\n",
       "      <td>42.428571</td>\n",
       "      <td>5.285714</td>\n",
       "      <td>9.00</td>\n",
       "      <td>7.714286</td>\n",
       "      <td>57.714286</td>\n",
       "      <td>19.142857</td>\n",
       "      <td>0.142857</td>\n",
       "      <td>6.571429</td>\n",
       "      <td>5.285714</td>\n",
       "      <td>6.571429</td>\n",
       "      <td>0.571429</td>\n",
       "      <td>43.714286</td>\n",
       "      <td>51.428571</td>\n",
       "      <td>7.714286</td>\n",
       "      <td>19.714286</td>\n",
       "      <td>27.428571</td>\n",
       "      <td>51.428571</td>\n",
       "      <td>1.142857</td>\n",
       "      <td>1.142857</td>\n",
       "      <td>1.714286</td>\n",
       "      <td>2.142857</td>\n",
       "      <td>2.142857</td>\n",
       "    </tr>\n",
       "    <tr>\n",
       "      <th>М</th>\n",
       "      <td>31.750000</td>\n",
       "      <td>4.750000</td>\n",
       "      <td>5.25</td>\n",
       "      <td>5.500000</td>\n",
       "      <td>54.500000</td>\n",
       "      <td>14.500000</td>\n",
       "      <td>2.000000</td>\n",
       "      <td>5.250000</td>\n",
       "      <td>2.000000</td>\n",
       "      <td>4.250000</td>\n",
       "      <td>1.000000</td>\n",
       "      <td>44.500000</td>\n",
       "      <td>44.750000</td>\n",
       "      <td>7.500000</td>\n",
       "      <td>8.500000</td>\n",
       "      <td>29.000000</td>\n",
       "      <td>60.750000</td>\n",
       "      <td>1.250000</td>\n",
       "      <td>1.000000</td>\n",
       "      <td>1.500000</td>\n",
       "      <td>2.000000</td>\n",
       "      <td>1.500000</td>\n",
       "    </tr>\n",
       "  </tbody>\n",
       "</table>\n",
       "</div>"
      ],
      "text/plain": [
       "       Возраст       ВАШ  HADS/T    HADS/D      HIT-6       HALT  HALT-JOB  \\\n",
       "Пол                                                                          \n",
       "Ж    42.428571  5.285714    9.00  7.714286  57.714286  19.142857  0.142857   \n",
       "М    31.750000  4.750000    5.25  5.500000  54.500000  14.500000  2.000000   \n",
       "\n",
       "      HALT-DA   HALT-HW  HALT-1/2HW  HALT-FANS     STAI-R     STAI-P  \\\n",
       "Пол                                                                    \n",
       "Ж    6.571429  5.285714    6.571429   0.571429  43.714286  51.428571   \n",
       "М    5.250000  2.000000    4.250000   1.000000  44.500000  44.750000   \n",
       "\n",
       "         HDRS      HAM-A       MMSE      EQ-5D    EQ-5D2    EQ-5D3    EQ-5D4  \\\n",
       "Пол                                                                            \n",
       "Ж    7.714286  19.714286  27.428571  51.428571  1.142857  1.142857  1.714286   \n",
       "М    7.500000   8.500000  29.000000  60.750000  1.250000  1.000000  1.500000   \n",
       "\n",
       "       EQ-5D5    EQ-5D6  \n",
       "Пол                      \n",
       "Ж    2.142857  2.142857  \n",
       "М    2.000000  1.500000  "
      ]
     },
     "execution_count": 140,
     "metadata": {},
     "output_type": "execute_result"
    }
   ],
   "source": [
    "hd.groupby('Пол').mean()"
   ]
  },
  {
   "cell_type": "markdown",
   "id": "f115a4dd",
   "metadata": {},
   "source": [
    "### Корреляция chi-square p ,(нет взаимосвязи во всех параметрах)"
   ]
  },
  {
   "cell_type": "code",
   "execution_count": 159,
   "id": "be0c4be1",
   "metadata": {},
   "outputs": [
    {
     "data": {
      "text/plain": [
       "Пол  Антидепрессанты  HART1  HART2  HART3  HART4  HART5    HART6    HART7  \n",
       "Ж    да               6-15   1-5    1-5    3-5    никогда  всегда   никогда    1\n",
       "                                           6-15   часто    всегда   часто      1\n",
       "                                                           редко    часто      1\n",
       "                             21     0      3-5    часто    никогда  редко      1\n",
       "     нет              3-5    1-5    1-5    1-2    часто    часто    часто      1\n",
       "                             6-10   1-5    6-15   иногда   часто    иногда     1\n",
       "                      6-15   11-20  1-5    6-15   часто    всегда   часто      1\n",
       "М    да               3-5    1-5    1-5    1-2    часто    никогда  часто      1\n",
       "                      6-15   1-5    1-5    3-5    иногда   иногда   редко      1\n",
       "     нет              3-5    6-10   1-5    3-5    иногда   всегда   часто      1\n",
       "                      6-15   11-20  6-10   1-2    часто    иногда   часто      1\n",
       "Name: ВАШ, dtype: int64"
      ]
     },
     "execution_count": 159,
     "metadata": {},
     "output_type": "execute_result"
    }
   ],
   "source": [
    "hd.groupby(['Пол','Антидепрессанты','HART1','HART2','HART3','HART4','HART5','HART6','HART7'])['ВАШ'].count()"
   ]
  },
  {
   "cell_type": "code",
   "execution_count": 160,
   "id": "be926df1",
   "metadata": {},
   "outputs": [
    {
     "data": {
      "text/plain": [
       "Пол  Антидепрессанты  HART1  HART2  HART3  HART4  HART5    HART6    HART7  \n",
       "Ж    да               6-15   1-5    1-5    3-5    никогда  всегда   никогда    8.0\n",
       "                                           6-15   часто    всегда   часто      6.0\n",
       "                                                           редко    часто      5.0\n",
       "                             21     0      3-5    часто    никогда  редко      4.0\n",
       "     нет              3-5    1-5    1-5    1-2    часто    часто    часто      4.0\n",
       "                             6-10   1-5    6-15   иногда   часто    иногда     3.0\n",
       "                      6-15   11-20  1-5    6-15   часто    всегда   часто      7.0\n",
       "М    да               3-5    1-5    1-5    1-2    часто    никогда  часто      5.0\n",
       "                      6-15   1-5    1-5    3-5    иногда   иногда   редко      6.0\n",
       "     нет              3-5    6-10   1-5    3-5    иногда   всегда   часто      5.0\n",
       "                      6-15   11-20  6-10   1-2    часто    иногда   часто      3.0\n",
       "Name: ВАШ, dtype: float64"
      ]
     },
     "execution_count": 160,
     "metadata": {},
     "output_type": "execute_result"
    }
   ],
   "source": [
    "hd.groupby(['Пол','Антидепрессанты','HART1','HART2','HART3','HART4','HART5','HART6','HART7'])['ВАШ'].mean()"
   ]
  },
  {
   "cell_type": "code",
   "execution_count": 156,
   "id": "bbbe9a17",
   "metadata": {},
   "outputs": [
    {
     "data": {
      "text/plain": [
       "Пол  Антидепрессанты\n",
       "Ж    да                 60.5\n",
       "     нет                54.0\n",
       "М    да                 52.5\n",
       "     нет                56.5\n",
       "Name: HIT-6, dtype: float64"
      ]
     },
     "execution_count": 156,
     "metadata": {},
     "output_type": "execute_result"
    }
   ],
   "source": [
    "hd.groupby(['Пол','Антидепрессанты'])['HIT-6'].mean()"
   ]
  },
  {
   "cell_type": "code",
   "execution_count": 114,
   "id": "b1db2533",
   "metadata": {},
   "outputs": [],
   "source": [
    "from bioinfokit.analys import stat, get_data"
   ]
  },
  {
   "cell_type": "code",
   "execution_count": 189,
   "id": "5d0a135c",
   "metadata": {},
   "outputs": [],
   "source": [
    "import numpy as np\n",
    "from scipy.stats import chi2_contingency "
   ]
  },
  {
   "cell_type": "code",
   "execution_count": 192,
   "id": "a9e5036f",
   "metadata": {},
   "outputs": [
    {
     "data": {
      "text/plain": [
       "Пол  Антидепрессанты\n",
       "Ж    да                 4\n",
       "     нет                3\n",
       "М    да                 2\n",
       "     нет                2\n",
       "Name: Антидепрессанты, dtype: int64"
      ]
     },
     "execution_count": 192,
     "metadata": {},
     "output_type": "execute_result"
    }
   ],
   "source": [
    "hd.groupby(['Пол','Антидепрессанты'])['Антидепрессанты'].count()"
   ]
  },
  {
   "cell_type": "code",
   "execution_count": 193,
   "id": "cb186fcb",
   "metadata": {},
   "outputs": [
    {
     "name": "stdout",
     "output_type": "stream",
     "text": [
      "\n",
      "Chi-squared test for independence\n",
      "\n",
      "Test              Df    Chi-square    P-value\n",
      "--------------  ----  ------------  ---------\n",
      "Pearson            1             0          1\n",
      "Log-likelihood     1             0          1\n",
      "\n"
     ]
    }
   ],
   "source": [
    "observed = np.array([[4, 3], [2, 2]])\n",
    "cat =pd.DataFrame(observed)\n",
    "res = stat()\n",
    "res.chisq(cat)\n",
    "\n",
    "# output\n",
    "print(res.summary)"
   ]
  },
  {
   "cell_type": "code",
   "execution_count": 194,
   "id": "ea87e71f",
   "metadata": {},
   "outputs": [
    {
     "data": {
      "text/plain": [
       "(0.0,\n",
       " 1.0,\n",
       " 1,\n",
       " array([[3.81818182, 3.18181818],\n",
       "        [2.18181818, 1.81818182]]))"
      ]
     },
     "execution_count": 194,
     "metadata": {},
     "output_type": "execute_result"
    }
   ],
   "source": [
    "# using Pearson’s chi-squared statistic\n",
    "# corrected for the Yates’ continuity\n",
    "chi_val, p_val, dof, expected =  chi2_contingency(observed)\n",
    "chi_val, p_val, dof, expected"
   ]
  },
  {
   "cell_type": "code",
   "execution_count": 195,
   "id": "a1ffdb38",
   "metadata": {},
   "outputs": [
    {
     "data": {
      "text/plain": [
       "(0.052380952380952334,\n",
       " 0.818970848901759,\n",
       " 1,\n",
       " array([[3.81818182, 3.18181818],\n",
       "        [2.18181818, 1.81818182]]))"
      ]
     },
     "execution_count": 195,
     "metadata": {},
     "output_type": "execute_result"
    }
   ],
   "source": [
    "# without Yates’ correction for continuity\n",
    "chi_val, p_val, dof, expected =  chi2_contingency(observed, correction=False)\n",
    "chi_val, p_val, dof, expected"
   ]
  },
  {
   "cell_type": "code",
   "execution_count": 197,
   "id": "e3aba1f0",
   "metadata": {},
   "outputs": [
    {
     "data": {
      "text/plain": [
       "Пол  HART1\n",
       "Ж    3-5      2\n",
       "     6-15     5\n",
       "М    3-5      2\n",
       "     6-15     2\n",
       "Name: Антидепрессанты, dtype: int64"
      ]
     },
     "execution_count": 197,
     "metadata": {},
     "output_type": "execute_result"
    }
   ],
   "source": [
    "hd.groupby(['Пол','HART1'])['Антидепрессанты'].count()"
   ]
  },
  {
   "cell_type": "code",
   "execution_count": 198,
   "id": "78759fa2",
   "metadata": {},
   "outputs": [
    {
     "name": "stdout",
     "output_type": "stream",
     "text": [
      "\n",
      "Chi-squared test for independence\n",
      "\n",
      "Test              Df    Chi-square    P-value\n",
      "--------------  ----  ------------  ---------\n",
      "Pearson            1    0.00350765   0.952773\n",
      "Log-likelihood     1    0.00350126   0.952816\n",
      "\n"
     ]
    }
   ],
   "source": [
    "observed = np.array([[2, 5], [2, 2]])\n",
    "cat =pd.DataFrame(observed)\n",
    "res = stat()\n",
    "res.chisq(cat)\n",
    "\n",
    "# output\n",
    "print(res.summary)"
   ]
  },
  {
   "cell_type": "code",
   "execution_count": 199,
   "id": "e3d7ba77",
   "metadata": {},
   "outputs": [
    {
     "data": {
      "text/plain": [
       "(0.0035076530612244924,\n",
       " 0.9527725448755108,\n",
       " 1,\n",
       " array([[2.54545455, 4.45454545],\n",
       "        [1.45454545, 2.54545455]]))"
      ]
     },
     "execution_count": 199,
     "metadata": {},
     "output_type": "execute_result"
    }
   ],
   "source": [
    "# using Pearson’s chi-squared statistic\n",
    "# corrected for the Yates’ continuity\n",
    "chi_val, p_val, dof, expected =  chi2_contingency(observed)\n",
    "chi_val, p_val, dof, expected"
   ]
  },
  {
   "cell_type": "code",
   "execution_count": 200,
   "id": "8acd8292",
   "metadata": {},
   "outputs": [
    {
     "data": {
      "text/plain": [
       "(0.5051020408163265,\n",
       " 0.47726686709630795,\n",
       " 1,\n",
       " array([[2.54545455, 4.45454545],\n",
       "        [1.45454545, 2.54545455]]))"
      ]
     },
     "execution_count": 200,
     "metadata": {},
     "output_type": "execute_result"
    }
   ],
   "source": [
    "# without Yates’ correction for continuity\n",
    "chi_val, p_val, dof, expected =  chi2_contingency(observed, correction=False)\n",
    "chi_val, p_val, dof, expected"
   ]
  },
  {
   "cell_type": "code",
   "execution_count": 201,
   "id": "5a2706bf",
   "metadata": {},
   "outputs": [
    {
     "data": {
      "text/plain": [
       "Пол  HART2\n",
       "Ж    1-5      4\n",
       "     11-20    1\n",
       "     21       1\n",
       "     6-10     1\n",
       "М    1-5      2\n",
       "     11-20    1\n",
       "     6-10     1\n",
       "Name: Антидепрессанты, dtype: int64"
      ]
     },
     "execution_count": 201,
     "metadata": {},
     "output_type": "execute_result"
    }
   ],
   "source": [
    "hd.groupby(['Пол','HART2'])['Антидепрессанты'].count()"
   ]
  },
  {
   "cell_type": "code",
   "execution_count": 202,
   "id": "b4d19257",
   "metadata": {},
   "outputs": [
    {
     "name": "stdout",
     "output_type": "stream",
     "text": [
      "\n",
      "Chi-squared test for independence\n",
      "\n",
      "Test              Df    Chi-square    P-value\n",
      "--------------  ----  ------------  ---------\n",
      "Pearson            3      0.916667   0.821404\n",
      "Log-likelihood     3      1.23725    0.744084\n",
      "\n"
     ]
    }
   ],
   "source": [
    "observed = np.array([[4, 1,1,1], [2, 1,0,1]])\n",
    "cat =pd.DataFrame(observed)\n",
    "res = stat()\n",
    "res.chisq(cat)\n",
    "\n",
    "# output\n",
    "print(res.summary)"
   ]
  },
  {
   "cell_type": "code",
   "execution_count": 204,
   "id": "9902aacd",
   "metadata": {},
   "outputs": [
    {
     "data": {
      "text/plain": [
       "Пол  HART3\n",
       "Ж    0        1\n",
       "     1-5      6\n",
       "М    1-5      3\n",
       "     6-10     1\n",
       "Name: Антидепрессанты, dtype: int64"
      ]
     },
     "execution_count": 204,
     "metadata": {},
     "output_type": "execute_result"
    }
   ],
   "source": [
    "hd.groupby(['Пол','HART3'])['Антидепрессанты'].count()"
   ]
  },
  {
   "cell_type": "code",
   "execution_count": 205,
   "id": "d33b4b41",
   "metadata": {},
   "outputs": [
    {
     "name": "stdout",
     "output_type": "stream",
     "text": [
      "\n",
      "Chi-squared test for independence\n",
      "\n",
      "Test              Df    Chi-square    P-value\n",
      "--------------  ----  ------------  ---------\n",
      "Pearson            2       2.35714   0.307718\n",
      "Log-likelihood     2       2.96334   0.227257\n",
      "\n"
     ]
    }
   ],
   "source": [
    "observed = np.array([[1, 6,0], [0, 3,1]])\n",
    "cat =pd.DataFrame(observed)\n",
    "res = stat()\n",
    "res.chisq(cat)\n",
    "\n",
    "# output\n",
    "print(res.summary)"
   ]
  },
  {
   "cell_type": "code",
   "execution_count": 206,
   "id": "4df38274",
   "metadata": {},
   "outputs": [
    {
     "data": {
      "text/plain": [
       "Пол  HART4\n",
       "Ж    1-2      1\n",
       "     3-5      2\n",
       "     6-15     4\n",
       "М    1-2      2\n",
       "     3-5      2\n",
       "Name: Антидепрессанты, dtype: int64"
      ]
     },
     "execution_count": 206,
     "metadata": {},
     "output_type": "execute_result"
    }
   ],
   "source": [
    "hd.groupby(['Пол','HART4'])['Антидепрессанты'].count()"
   ]
  },
  {
   "cell_type": "code",
   "execution_count": 207,
   "id": "563a396d",
   "metadata": {},
   "outputs": [
    {
     "name": "stdout",
     "output_type": "stream",
     "text": [
      "\n",
      "Chi-squared test for independence\n",
      "\n",
      "Test              Df    Chi-square    P-value\n",
      "--------------  ----  ------------  ---------\n",
      "Pearson            2       3.79762  0.149747\n",
      "Log-likelihood     2       5.05634  0.0798051\n",
      "\n"
     ]
    }
   ],
   "source": [
    "observed = np.array([[1,2,4], [2, 2,0]])\n",
    "cat =pd.DataFrame(observed)\n",
    "res = stat()\n",
    "res.chisq(cat)\n",
    "\n",
    "# output\n",
    "print(res.summary)"
   ]
  },
  {
   "cell_type": "code",
   "execution_count": 208,
   "id": "3a3e3445",
   "metadata": {},
   "outputs": [
    {
     "data": {
      "text/plain": [
       "Пол  HART5  \n",
       "Ж    иногда     1\n",
       "     никогда    1\n",
       "     часто      5\n",
       "М    иногда     2\n",
       "     часто      2\n",
       "Name: Антидепрессанты, dtype: int64"
      ]
     },
     "execution_count": 208,
     "metadata": {},
     "output_type": "execute_result"
    }
   ],
   "source": [
    "hd.groupby(['Пол','HART5'])['Антидепрессанты'].count()"
   ]
  },
  {
   "cell_type": "code",
   "execution_count": 209,
   "id": "fa4597a1",
   "metadata": {},
   "outputs": [
    {
     "name": "stdout",
     "output_type": "stream",
     "text": [
      "\n",
      "Chi-squared test for independence\n",
      "\n",
      "Test              Df    Chi-square    P-value\n",
      "--------------  ----  ------------  ---------\n",
      "Pearson            2       1.94558   0.378027\n",
      "Log-likelihood     2       2.22574   0.328615\n",
      "\n"
     ]
    }
   ],
   "source": [
    "observed = np.array([[1,1,5], [2, 0,2]])\n",
    "cat =pd.DataFrame(observed)\n",
    "res = stat()\n",
    "res.chisq(cat)\n",
    "\n",
    "# output\n",
    "print(res.summary)"
   ]
  },
  {
   "cell_type": "code",
   "execution_count": 210,
   "id": "f0cd27a8",
   "metadata": {},
   "outputs": [
    {
     "data": {
      "text/plain": [
       "Пол  HART6  \n",
       "Ж    всегда     3\n",
       "     никогда    1\n",
       "     редко      1\n",
       "     часто      2\n",
       "М    всегда     1\n",
       "     иногда     2\n",
       "     никогда    1\n",
       "Name: Антидепрессанты, dtype: int64"
      ]
     },
     "execution_count": 210,
     "metadata": {},
     "output_type": "execute_result"
    }
   ],
   "source": [
    "hd.groupby(['Пол','HART6'])['Антидепрессанты'].count()"
   ]
  },
  {
   "cell_type": "code",
   "execution_count": 211,
   "id": "589306d5",
   "metadata": {},
   "outputs": [
    {
     "name": "stdout",
     "output_type": "stream",
     "text": [
      "\n",
      "Chi-squared test for independence\n",
      "\n",
      "Test              Df    Chi-square    P-value\n",
      "--------------  ----  ------------  ---------\n",
      "Pearson            4       5.59821   0.23123\n",
      "Log-likelihood     4       7.14933   0.128204\n",
      "\n"
     ]
    }
   ],
   "source": [
    "observed = np.array([[3,0,1,1,2], [1,2, 1,0,0]])\n",
    "cat =pd.DataFrame(observed)\n",
    "res = stat()\n",
    "res.chisq(cat)\n",
    "\n",
    "# output\n",
    "print(res.summary)"
   ]
  },
  {
   "cell_type": "code",
   "execution_count": 212,
   "id": "b32de0bd",
   "metadata": {},
   "outputs": [
    {
     "data": {
      "text/plain": [
       "Пол  HART7  \n",
       "Ж    иногда     1\n",
       "     никогда    1\n",
       "     редко      1\n",
       "     часто      4\n",
       "М    редко      1\n",
       "     часто      3\n",
       "Name: Антидепрессанты, dtype: int64"
      ]
     },
     "execution_count": 212,
     "metadata": {},
     "output_type": "execute_result"
    }
   ],
   "source": [
    "hd.groupby(['Пол','HART7'])['Антидепрессанты'].count()"
   ]
  },
  {
   "cell_type": "code",
   "execution_count": 214,
   "id": "c65bb6c5",
   "metadata": {},
   "outputs": [
    {
     "name": "stdout",
     "output_type": "stream",
     "text": [
      "\n",
      "Chi-squared test for independence\n",
      "\n",
      "Test              Df    Chi-square    P-value\n",
      "--------------  ----  ------------  ---------\n",
      "Pearson            3       1.71429   0.633762\n",
      "Log-likelihood     3       2.43769   0.486656\n",
      "\n"
     ]
    }
   ],
   "source": [
    "observed = np.array([[1,1,1,4], [0, 0,1,4]])\n",
    "cat =pd.DataFrame(observed)\n",
    "res = stat()\n",
    "res.chisq(cat)\n",
    "\n",
    "# output\n",
    "print(res.summary)"
   ]
  },
  {
   "cell_type": "code",
   "execution_count": null,
   "id": "c14e14a7",
   "metadata": {},
   "outputs": [],
   "source": []
  }
 ],
 "metadata": {
  "kernelspec": {
   "display_name": "Python 3 (ipykernel)",
   "language": "python",
   "name": "python3"
  },
  "language_info": {
   "codemirror_mode": {
    "name": "ipython",
    "version": 3
   },
   "file_extension": ".py",
   "mimetype": "text/x-python",
   "name": "python",
   "nbconvert_exporter": "python",
   "pygments_lexer": "ipython3",
   "version": "3.10.8"
  }
 },
 "nbformat": 4,
 "nbformat_minor": 5
}
