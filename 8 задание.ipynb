{
 "cells": [
  {
   "cell_type": "code",
   "execution_count": 1,
   "id": "cfdcb769",
   "metadata": {},
   "outputs": [],
   "source": [
    "import numpy as np"
   ]
  },
  {
   "cell_type": "markdown",
   "id": "c4e7dcf9",
   "metadata": {},
   "source": [
    "###### Провести дисперсионный анализ для определения того, есть ли различия среднего роста среди взрослых футболистов, хоккеистов и штангистов. Даны значения роста в трех группах случайно выбранных спортсменов: Футболисты: 173, 175, 180, 178, 177, 185, 183, 182. Хоккеисты: 177, 179, 180, 188, 177, 172, 171, 184, 180. Штангисты: 172, 173, 169, 177, 166, 180, 178, 177, 172, 166, 170."
   ]
  },
  {
   "cell_type": "code",
   "execution_count": 2,
   "id": "0667ee4a",
   "metadata": {},
   "outputs": [
    {
     "name": "stdout",
     "output_type": "stream",
     "text": [
      "28\n"
     ]
    }
   ],
   "source": [
    "n1 = 8\n",
    "n2 = 9\n",
    "n3 = 11\n",
    "n = n1 + n2 + n3\n",
    "print(n)"
   ]
  },
  {
   "cell_type": "markdown",
   "id": "6ac8c1ab",
   "metadata": {},
   "source": [
    "##### Всего три группы:"
   ]
  },
  {
   "cell_type": "code",
   "execution_count": 3,
   "id": "49373a7f",
   "metadata": {},
   "outputs": [],
   "source": [
    "k = 3"
   ]
  },
  {
   "cell_type": "code",
   "execution_count": 4,
   "id": "f748bbf8",
   "metadata": {},
   "outputs": [],
   "source": [
    "y1 = np.array([173, 175, 180, 178, 177, 185, 183, 182], dtype=np.float64)  # Рост футболистов"
   ]
  },
  {
   "cell_type": "code",
   "execution_count": 5,
   "id": "1b6c81a5",
   "metadata": {},
   "outputs": [],
   "source": [
    "y2 = np.array([177, 179, 180, 188, 177, 172, 171, 184, 180], dtype=np.float64) # Рост хоккеистов"
   ]
  },
  {
   "cell_type": "code",
   "execution_count": 10,
   "id": "97db74c1",
   "metadata": {},
   "outputs": [],
   "source": [
    "y3 = np.array([172, 173, 169, 177, 166, 180, 178, 177, 172, 166, 170], dtype=np.float64) # Рост штангистов"
   ]
  },
  {
   "cell_type": "markdown",
   "id": "ea647272",
   "metadata": {},
   "source": [
    "###### Проведем однофакторный дисперсионный анализ. Сначала найдем средний рост для каждой профессии"
   ]
  },
  {
   "cell_type": "code",
   "execution_count": 7,
   "id": "f826c59d",
   "metadata": {},
   "outputs": [
    {
     "name": "stdout",
     "output_type": "stream",
     "text": [
      "179.125\n"
     ]
    }
   ],
   "source": [
    "y1_mean = np.mean(y1)\n",
    "print(y1_mean)"
   ]
  },
  {
   "cell_type": "code",
   "execution_count": 8,
   "id": "a7a4d527",
   "metadata": {},
   "outputs": [
    {
     "name": "stdout",
     "output_type": "stream",
     "text": [
      "178.66666666666666\n"
     ]
    }
   ],
   "source": [
    "y2_mean = np.mean(y2)\n",
    "print(y2_mean)"
   ]
  },
  {
   "cell_type": "code",
   "execution_count": 11,
   "id": "fd613833",
   "metadata": {},
   "outputs": [
    {
     "name": "stdout",
     "output_type": "stream",
     "text": [
      "172.72727272727272\n"
     ]
    }
   ],
   "source": [
    "y3_mean = np.mean(y3)\n",
    "print(y3_mean)"
   ]
  },
  {
   "cell_type": "markdown",
   "id": "bbdffc33",
   "metadata": {},
   "source": [
    "##### Cредний рост разнится. Установим, что это отличие статистически значимо. Для этого сначала соберем все значения заработных плат в один массив"
   ]
  },
  {
   "cell_type": "code",
   "execution_count": 12,
   "id": "a3f972e2",
   "metadata": {},
   "outputs": [
    {
     "data": {
      "text/plain": [
       "array([173., 175., 180., 178., 177., 185., 183., 182., 177., 179., 180.,\n",
       "       188., 177., 172., 171., 184., 180., 172., 173., 169., 177., 166.,\n",
       "       180., 178., 177., 172., 166., 170.])"
      ]
     },
     "execution_count": 12,
     "metadata": {},
     "output_type": "execute_result"
    }
   ],
   "source": [
    "y_all = np.concatenate([y1, y2, y3])\n",
    "y_all"
   ]
  },
  {
   "cell_type": "code",
   "execution_count": 13,
   "id": "8b9f2716",
   "metadata": {},
   "outputs": [
    {
     "name": "stdout",
     "output_type": "stream",
     "text": [
      "176.46428571428572\n"
     ]
    }
   ],
   "source": [
    "y_mean = np.mean(y_all)   # среднее значение роста по всем значениям\n",
    "print(y_mean)"
   ]
  },
  {
   "cell_type": "code",
   "execution_count": 14,
   "id": "a38beb68",
   "metadata": {},
   "outputs": [
    {
     "data": {
      "text/plain": [
       "830.9642857142854"
      ]
     },
     "execution_count": 14,
     "metadata": {},
     "output_type": "execute_result"
    }
   ],
   "source": [
    "s2 = np.sum((y_all - y_mean)**2) #сумму квадратов отклонений наблюдений от общего среднего\n",
    "s2"
   ]
  },
  {
   "cell_type": "code",
   "execution_count": 15,
   "id": "678fb216",
   "metadata": {},
   "outputs": [
    {
     "data": {
      "text/plain": [
       "253.9074675324678"
      ]
     },
     "execution_count": 15,
     "metadata": {},
     "output_type": "execute_result"
    }
   ],
   "source": [
    "s2_f = ((y1_mean - y_mean)**2) * n1 + ((y2_mean - y_mean)**2) * n2 + ((y3_mean - y_mean)**2) * n3 #сумму квадратов отклонений средних групповых значений от общего среднего\n",
    "s2_f"
   ]
  },
  {
   "cell_type": "code",
   "execution_count": 16,
   "id": "ecf85680",
   "metadata": {},
   "outputs": [
    {
     "data": {
      "text/plain": [
       "577.0568181818182"
      ]
     },
     "execution_count": 16,
     "metadata": {},
     "output_type": "execute_result"
    }
   ],
   "source": [
    "s2_residual = np.sum((y1 - y1_mean)**2) + np.sum((y2 - y2_mean)**2) + np.sum((y3 - y3_mean)**2)\n",
    "s2_residual   #  остаточную сумму квадратов отклонений"
   ]
  },
  {
   "cell_type": "code",
   "execution_count": 17,
   "id": "1797fe22",
   "metadata": {},
   "outputs": [
    {
     "name": "stdout",
     "output_type": "stream",
     "text": [
      "830.9642857142854\n",
      "830.964285714286\n"
     ]
    }
   ],
   "source": [
    "print(s2)\n",
    "print(s2_f + s2_residual)"
   ]
  },
  {
   "cell_type": "code",
   "execution_count": 18,
   "id": "21aee017",
   "metadata": {},
   "outputs": [
    {
     "data": {
      "text/plain": [
       "30.776455026455015"
      ]
     },
     "execution_count": 18,
     "metadata": {},
     "output_type": "execute_result"
    }
   ],
   "source": [
    "sigma2_general = s2 / (n - 1)\n",
    "sigma2_general  # общая дисперсия "
   ]
  },
  {
   "cell_type": "code",
   "execution_count": 19,
   "id": "5fac17c8",
   "metadata": {},
   "outputs": [
    {
     "data": {
      "text/plain": [
       "126.9537337662339"
      ]
     },
     "execution_count": 19,
     "metadata": {},
     "output_type": "execute_result"
    }
   ],
   "source": [
    "sigma2_f = s2_f / (k - 1)\n",
    "sigma2_f #  факториальная дисперсия"
   ]
  },
  {
   "cell_type": "code",
   "execution_count": 20,
   "id": "6b1828ac",
   "metadata": {},
   "outputs": [
    {
     "data": {
      "text/plain": [
       "23.08227272727273"
      ]
     },
     "execution_count": 20,
     "metadata": {},
     "output_type": "execute_result"
    }
   ],
   "source": [
    "sigma2_residual = s2_residual / (n - k)\n",
    "sigma2_residual # остаточнпя дисперсия"
   ]
  },
  {
   "cell_type": "code",
   "execution_count": 21,
   "id": "04d6bceb",
   "metadata": {},
   "outputs": [
    {
     "data": {
      "text/plain": [
       "5.500053450812598"
      ]
     },
     "execution_count": 21,
     "metadata": {},
     "output_type": "execute_result"
    }
   ],
   "source": [
    "F_h = sigma2_f / sigma2_residual\n",
    "F_h "
   ]
  },
  {
   "cell_type": "markdown",
   "id": "b6225100",
   "metadata": {},
   "source": [
    "###### таблице критических точек распределения Фишера-Снедекора для заданного уровня значимости \n",
    " и двух степеней свободы - F 3,3852   отвергнута гипотеза Н0, различие роста в трех группах статистически значимо"
   ]
  },
  {
   "cell_type": "code",
   "execution_count": null,
   "id": "13b83ef0",
   "metadata": {},
   "outputs": [],
   "source": []
  }
 ],
 "metadata": {
  "kernelspec": {
   "display_name": "Python 3 (ipykernel)",
   "language": "python",
   "name": "python3"
  },
  "language_info": {
   "codemirror_mode": {
    "name": "ipython",
    "version": 3
   },
   "file_extension": ".py",
   "mimetype": "text/x-python",
   "name": "python",
   "nbconvert_exporter": "python",
   "pygments_lexer": "ipython3",
   "version": "3.10.8"
  }
 },
 "nbformat": 4,
 "nbformat_minor": 5
}
